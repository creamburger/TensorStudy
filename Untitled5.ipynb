{
  "nbformat": 4,
  "nbformat_minor": 0,
  "metadata": {
    "colab": {
      "provenance": [],
      "collapsed_sections": [],
      "authorship_tag": "ABX9TyP+SGXAXJykEAOQmCeVzDe1",
      "include_colab_link": true
    },
    "kernelspec": {
      "name": "python3",
      "display_name": "Python 3"
    },
    "language_info": {
      "name": "python"
    },
    "accelerator": "GPU"
  },
  "cells": [
    {
      "cell_type": "markdown",
      "metadata": {
        "id": "view-in-github",
        "colab_type": "text"
      },
      "source": [
        "<a href=\"https://colab.research.google.com/github/creamburger/TensorStudy/blob/main/Untitled5.ipynb\" target=\"_parent\"><img src=\"https://colab.research.google.com/assets/colab-badge.svg\" alt=\"Open In Colab\"/></a>"
      ]
    },
    {
      "cell_type": "code",
      "source": [
        "from google.colab import files\n",
        "myfile = files.upload()"
      ],
      "metadata": {
        "colab": {
          "base_uri": "https://localhost:8080/",
          "height": 76
        },
        "id": "EX81Kxykviyw",
        "outputId": "f89638ec-a2a7-49c2-9b16-625647e9e014"
      },
      "execution_count": 3,
      "outputs": [
        {
          "output_type": "display_data",
          "data": {
            "text/plain": [
              "<IPython.core.display.HTML object>"
            ],
            "text/html": [
              "\n",
              "     <input type=\"file\" id=\"files-d7926aba-170b-4a15-8502-bec1378ef2c9\" name=\"files[]\" multiple disabled\n",
              "        style=\"border:none\" />\n",
              "     <output id=\"result-d7926aba-170b-4a15-8502-bec1378ef2c9\">\n",
              "      Upload widget is only available when the cell has been executed in the\n",
              "      current browser session. Please rerun this cell to enable.\n",
              "      </output>\n",
              "      <script>// Copyright 2017 Google LLC\n",
              "//\n",
              "// Licensed under the Apache License, Version 2.0 (the \"License\");\n",
              "// you may not use this file except in compliance with the License.\n",
              "// You may obtain a copy of the License at\n",
              "//\n",
              "//      http://www.apache.org/licenses/LICENSE-2.0\n",
              "//\n",
              "// Unless required by applicable law or agreed to in writing, software\n",
              "// distributed under the License is distributed on an \"AS IS\" BASIS,\n",
              "// WITHOUT WARRANTIES OR CONDITIONS OF ANY KIND, either express or implied.\n",
              "// See the License for the specific language governing permissions and\n",
              "// limitations under the License.\n",
              "\n",
              "/**\n",
              " * @fileoverview Helpers for google.colab Python module.\n",
              " */\n",
              "(function(scope) {\n",
              "function span(text, styleAttributes = {}) {\n",
              "  const element = document.createElement('span');\n",
              "  element.textContent = text;\n",
              "  for (const key of Object.keys(styleAttributes)) {\n",
              "    element.style[key] = styleAttributes[key];\n",
              "  }\n",
              "  return element;\n",
              "}\n",
              "\n",
              "// Max number of bytes which will be uploaded at a time.\n",
              "const MAX_PAYLOAD_SIZE = 100 * 1024;\n",
              "\n",
              "function _uploadFiles(inputId, outputId) {\n",
              "  const steps = uploadFilesStep(inputId, outputId);\n",
              "  const outputElement = document.getElementById(outputId);\n",
              "  // Cache steps on the outputElement to make it available for the next call\n",
              "  // to uploadFilesContinue from Python.\n",
              "  outputElement.steps = steps;\n",
              "\n",
              "  return _uploadFilesContinue(outputId);\n",
              "}\n",
              "\n",
              "// This is roughly an async generator (not supported in the browser yet),\n",
              "// where there are multiple asynchronous steps and the Python side is going\n",
              "// to poll for completion of each step.\n",
              "// This uses a Promise to block the python side on completion of each step,\n",
              "// then passes the result of the previous step as the input to the next step.\n",
              "function _uploadFilesContinue(outputId) {\n",
              "  const outputElement = document.getElementById(outputId);\n",
              "  const steps = outputElement.steps;\n",
              "\n",
              "  const next = steps.next(outputElement.lastPromiseValue);\n",
              "  return Promise.resolve(next.value.promise).then((value) => {\n",
              "    // Cache the last promise value to make it available to the next\n",
              "    // step of the generator.\n",
              "    outputElement.lastPromiseValue = value;\n",
              "    return next.value.response;\n",
              "  });\n",
              "}\n",
              "\n",
              "/**\n",
              " * Generator function which is called between each async step of the upload\n",
              " * process.\n",
              " * @param {string} inputId Element ID of the input file picker element.\n",
              " * @param {string} outputId Element ID of the output display.\n",
              " * @return {!Iterable<!Object>} Iterable of next steps.\n",
              " */\n",
              "function* uploadFilesStep(inputId, outputId) {\n",
              "  const inputElement = document.getElementById(inputId);\n",
              "  inputElement.disabled = false;\n",
              "\n",
              "  const outputElement = document.getElementById(outputId);\n",
              "  outputElement.innerHTML = '';\n",
              "\n",
              "  const pickedPromise = new Promise((resolve) => {\n",
              "    inputElement.addEventListener('change', (e) => {\n",
              "      resolve(e.target.files);\n",
              "    });\n",
              "  });\n",
              "\n",
              "  const cancel = document.createElement('button');\n",
              "  inputElement.parentElement.appendChild(cancel);\n",
              "  cancel.textContent = 'Cancel upload';\n",
              "  const cancelPromise = new Promise((resolve) => {\n",
              "    cancel.onclick = () => {\n",
              "      resolve(null);\n",
              "    };\n",
              "  });\n",
              "\n",
              "  // Wait for the user to pick the files.\n",
              "  const files = yield {\n",
              "    promise: Promise.race([pickedPromise, cancelPromise]),\n",
              "    response: {\n",
              "      action: 'starting',\n",
              "    }\n",
              "  };\n",
              "\n",
              "  cancel.remove();\n",
              "\n",
              "  // Disable the input element since further picks are not allowed.\n",
              "  inputElement.disabled = true;\n",
              "\n",
              "  if (!files) {\n",
              "    return {\n",
              "      response: {\n",
              "        action: 'complete',\n",
              "      }\n",
              "    };\n",
              "  }\n",
              "\n",
              "  for (const file of files) {\n",
              "    const li = document.createElement('li');\n",
              "    li.append(span(file.name, {fontWeight: 'bold'}));\n",
              "    li.append(span(\n",
              "        `(${file.type || 'n/a'}) - ${file.size} bytes, ` +\n",
              "        `last modified: ${\n",
              "            file.lastModifiedDate ? file.lastModifiedDate.toLocaleDateString() :\n",
              "                                    'n/a'} - `));\n",
              "    const percent = span('0% done');\n",
              "    li.appendChild(percent);\n",
              "\n",
              "    outputElement.appendChild(li);\n",
              "\n",
              "    const fileDataPromise = new Promise((resolve) => {\n",
              "      const reader = new FileReader();\n",
              "      reader.onload = (e) => {\n",
              "        resolve(e.target.result);\n",
              "      };\n",
              "      reader.readAsArrayBuffer(file);\n",
              "    });\n",
              "    // Wait for the data to be ready.\n",
              "    let fileData = yield {\n",
              "      promise: fileDataPromise,\n",
              "      response: {\n",
              "        action: 'continue',\n",
              "      }\n",
              "    };\n",
              "\n",
              "    // Use a chunked sending to avoid message size limits. See b/62115660.\n",
              "    let position = 0;\n",
              "    do {\n",
              "      const length = Math.min(fileData.byteLength - position, MAX_PAYLOAD_SIZE);\n",
              "      const chunk = new Uint8Array(fileData, position, length);\n",
              "      position += length;\n",
              "\n",
              "      const base64 = btoa(String.fromCharCode.apply(null, chunk));\n",
              "      yield {\n",
              "        response: {\n",
              "          action: 'append',\n",
              "          file: file.name,\n",
              "          data: base64,\n",
              "        },\n",
              "      };\n",
              "\n",
              "      let percentDone = fileData.byteLength === 0 ?\n",
              "          100 :\n",
              "          Math.round((position / fileData.byteLength) * 100);\n",
              "      percent.textContent = `${percentDone}% done`;\n",
              "\n",
              "    } while (position < fileData.byteLength);\n",
              "  }\n",
              "\n",
              "  // All done.\n",
              "  yield {\n",
              "    response: {\n",
              "      action: 'complete',\n",
              "    }\n",
              "  };\n",
              "}\n",
              "\n",
              "scope.google = scope.google || {};\n",
              "scope.google.colab = scope.google.colab || {};\n",
              "scope.google.colab._files = {\n",
              "  _uploadFiles,\n",
              "  _uploadFilesContinue,\n",
              "};\n",
              "})(self);\n",
              "</script> "
            ]
          },
          "metadata": {}
        },
        {
          "output_type": "stream",
          "name": "stdout",
          "text": [
            "Saving cs_data.csv to cs_data.csv\n"
          ]
        }
      ]
    },
    {
      "cell_type": "code",
      "source": [
        "#io와 pandas 모듈 import\n",
        "import io\n",
        "import pandas as pd"
      ],
      "metadata": {
        "id": "Oh9GRSwNuFeO"
      },
      "execution_count": 4,
      "outputs": []
    },
    {
      "cell_type": "code",
      "source": [
        "#pd.read_csv로 csv파일 불러오기\n",
        "col=['no','SeriousDlqin2yrs','RevolvingUtilizationOfUnsecuredLines','age','NumberOfTime30-59DaysPastDueNotWorse','DebtRatio','MonthlyIncome','NumberOfOpenCreditLinesAndLoans','NumberOfTimes90DaysLate','NumberRealEstateLoansOrLines','NumberOfTime60-89DaysPastDueNotWorse','NumberOfDependents']\n",
        "data = pd.read_csv(io.BytesIO(myfile['cs_data.csv']),\n",
        "                   header=None,   #첫번째 행이 데이터이므로 header가 없다라고 설정.\n",
        "                  names=col,\n",
        "                  skipinitialspace=True, # , 다음의 공백을 제거,\n",
        "                   na_values='?')\n",
        "data.head()"
      ],
      "metadata": {
        "colab": {
          "base_uri": "https://localhost:8080/",
          "height": 341
        },
        "id": "5ihTiQfyv38q",
        "outputId": "75936d0b-acd6-4215-9972-8e5b51118df3"
      },
      "execution_count": 5,
      "outputs": [
        {
          "output_type": "stream",
          "name": "stderr",
          "text": [
            "/usr/local/lib/python3.7/dist-packages/IPython/core/interactiveshell.py:3326: DtypeWarning: Columns (1,2,3,4,5,6,7,8,9,10,11) have mixed types.Specify dtype option on import or set low_memory=False.\n",
            "  exec(code_obj, self.user_global_ns, self.user_ns)\n"
          ]
        },
        {
          "output_type": "execute_result",
          "data": {
            "text/plain": [
              "    no  SeriousDlqin2yrs  RevolvingUtilizationOfUnsecuredLines  age  \\\n",
              "0  NaN  SeriousDlqin2yrs  RevolvingUtilizationOfUnsecuredLines  age   \n",
              "1  1.0                 1                           0.766126609   45   \n",
              "2  2.0                 0                           0.957151019   40   \n",
              "3  3.0                 0                            0.65818014   38   \n",
              "4  4.0                 0                           0.233809776   30   \n",
              "\n",
              "   NumberOfTime30-59DaysPastDueNotWorse    DebtRatio  MonthlyIncome  \\\n",
              "0  NumberOfTime30-59DaysPastDueNotWorse    DebtRatio  MonthlyIncome   \n",
              "1                                     2  0.802982129           9120   \n",
              "2                                     0  0.121876201           2600   \n",
              "3                                     1  0.085113375           3042   \n",
              "4                                     0  0.036049682           3300   \n",
              "\n",
              "   NumberOfOpenCreditLinesAndLoans  NumberOfTimes90DaysLate  \\\n",
              "0  NumberOfOpenCreditLinesAndLoans  NumberOfTimes90DaysLate   \n",
              "1                               13                        0   \n",
              "2                                4                        0   \n",
              "3                                2                        1   \n",
              "4                                5                        0   \n",
              "\n",
              "   NumberRealEstateLoansOrLines  NumberOfTime60-89DaysPastDueNotWorse  \\\n",
              "0  NumberRealEstateLoansOrLines  NumberOfTime60-89DaysPastDueNotWorse   \n",
              "1                             6                                     0   \n",
              "2                             0                                     0   \n",
              "3                             0                                     0   \n",
              "4                             0                                     0   \n",
              "\n",
              "   NumberOfDependents  \n",
              "0  NumberOfDependents  \n",
              "1                   2  \n",
              "2                   1  \n",
              "3                   0  \n",
              "4                   0  "
            ],
            "text/html": [
              "\n",
              "  <div id=\"df-4ff71a0e-fc3b-45bb-88e8-390b2139ca26\">\n",
              "    <div class=\"colab-df-container\">\n",
              "      <div>\n",
              "<style scoped>\n",
              "    .dataframe tbody tr th:only-of-type {\n",
              "        vertical-align: middle;\n",
              "    }\n",
              "\n",
              "    .dataframe tbody tr th {\n",
              "        vertical-align: top;\n",
              "    }\n",
              "\n",
              "    .dataframe thead th {\n",
              "        text-align: right;\n",
              "    }\n",
              "</style>\n",
              "<table border=\"1\" class=\"dataframe\">\n",
              "  <thead>\n",
              "    <tr style=\"text-align: right;\">\n",
              "      <th></th>\n",
              "      <th>no</th>\n",
              "      <th>SeriousDlqin2yrs</th>\n",
              "      <th>RevolvingUtilizationOfUnsecuredLines</th>\n",
              "      <th>age</th>\n",
              "      <th>NumberOfTime30-59DaysPastDueNotWorse</th>\n",
              "      <th>DebtRatio</th>\n",
              "      <th>MonthlyIncome</th>\n",
              "      <th>NumberOfOpenCreditLinesAndLoans</th>\n",
              "      <th>NumberOfTimes90DaysLate</th>\n",
              "      <th>NumberRealEstateLoansOrLines</th>\n",
              "      <th>NumberOfTime60-89DaysPastDueNotWorse</th>\n",
              "      <th>NumberOfDependents</th>\n",
              "    </tr>\n",
              "  </thead>\n",
              "  <tbody>\n",
              "    <tr>\n",
              "      <th>0</th>\n",
              "      <td>NaN</td>\n",
              "      <td>SeriousDlqin2yrs</td>\n",
              "      <td>RevolvingUtilizationOfUnsecuredLines</td>\n",
              "      <td>age</td>\n",
              "      <td>NumberOfTime30-59DaysPastDueNotWorse</td>\n",
              "      <td>DebtRatio</td>\n",
              "      <td>MonthlyIncome</td>\n",
              "      <td>NumberOfOpenCreditLinesAndLoans</td>\n",
              "      <td>NumberOfTimes90DaysLate</td>\n",
              "      <td>NumberRealEstateLoansOrLines</td>\n",
              "      <td>NumberOfTime60-89DaysPastDueNotWorse</td>\n",
              "      <td>NumberOfDependents</td>\n",
              "    </tr>\n",
              "    <tr>\n",
              "      <th>1</th>\n",
              "      <td>1.0</td>\n",
              "      <td>1</td>\n",
              "      <td>0.766126609</td>\n",
              "      <td>45</td>\n",
              "      <td>2</td>\n",
              "      <td>0.802982129</td>\n",
              "      <td>9120</td>\n",
              "      <td>13</td>\n",
              "      <td>0</td>\n",
              "      <td>6</td>\n",
              "      <td>0</td>\n",
              "      <td>2</td>\n",
              "    </tr>\n",
              "    <tr>\n",
              "      <th>2</th>\n",
              "      <td>2.0</td>\n",
              "      <td>0</td>\n",
              "      <td>0.957151019</td>\n",
              "      <td>40</td>\n",
              "      <td>0</td>\n",
              "      <td>0.121876201</td>\n",
              "      <td>2600</td>\n",
              "      <td>4</td>\n",
              "      <td>0</td>\n",
              "      <td>0</td>\n",
              "      <td>0</td>\n",
              "      <td>1</td>\n",
              "    </tr>\n",
              "    <tr>\n",
              "      <th>3</th>\n",
              "      <td>3.0</td>\n",
              "      <td>0</td>\n",
              "      <td>0.65818014</td>\n",
              "      <td>38</td>\n",
              "      <td>1</td>\n",
              "      <td>0.085113375</td>\n",
              "      <td>3042</td>\n",
              "      <td>2</td>\n",
              "      <td>1</td>\n",
              "      <td>0</td>\n",
              "      <td>0</td>\n",
              "      <td>0</td>\n",
              "    </tr>\n",
              "    <tr>\n",
              "      <th>4</th>\n",
              "      <td>4.0</td>\n",
              "      <td>0</td>\n",
              "      <td>0.233809776</td>\n",
              "      <td>30</td>\n",
              "      <td>0</td>\n",
              "      <td>0.036049682</td>\n",
              "      <td>3300</td>\n",
              "      <td>5</td>\n",
              "      <td>0</td>\n",
              "      <td>0</td>\n",
              "      <td>0</td>\n",
              "      <td>0</td>\n",
              "    </tr>\n",
              "  </tbody>\n",
              "</table>\n",
              "</div>\n",
              "      <button class=\"colab-df-convert\" onclick=\"convertToInteractive('df-4ff71a0e-fc3b-45bb-88e8-390b2139ca26')\"\n",
              "              title=\"Convert this dataframe to an interactive table.\"\n",
              "              style=\"display:none;\">\n",
              "        \n",
              "  <svg xmlns=\"http://www.w3.org/2000/svg\" height=\"24px\"viewBox=\"0 0 24 24\"\n",
              "       width=\"24px\">\n",
              "    <path d=\"M0 0h24v24H0V0z\" fill=\"none\"/>\n",
              "    <path d=\"M18.56 5.44l.94 2.06.94-2.06 2.06-.94-2.06-.94-.94-2.06-.94 2.06-2.06.94zm-11 1L8.5 8.5l.94-2.06 2.06-.94-2.06-.94L8.5 2.5l-.94 2.06-2.06.94zm10 10l.94 2.06.94-2.06 2.06-.94-2.06-.94-.94-2.06-.94 2.06-2.06.94z\"/><path d=\"M17.41 7.96l-1.37-1.37c-.4-.4-.92-.59-1.43-.59-.52 0-1.04.2-1.43.59L10.3 9.45l-7.72 7.72c-.78.78-.78 2.05 0 2.83L4 21.41c.39.39.9.59 1.41.59.51 0 1.02-.2 1.41-.59l7.78-7.78 2.81-2.81c.8-.78.8-2.07 0-2.86zM5.41 20L4 18.59l7.72-7.72 1.47 1.35L5.41 20z\"/>\n",
              "  </svg>\n",
              "      </button>\n",
              "      \n",
              "  <style>\n",
              "    .colab-df-container {\n",
              "      display:flex;\n",
              "      flex-wrap:wrap;\n",
              "      gap: 12px;\n",
              "    }\n",
              "\n",
              "    .colab-df-convert {\n",
              "      background-color: #E8F0FE;\n",
              "      border: none;\n",
              "      border-radius: 50%;\n",
              "      cursor: pointer;\n",
              "      display: none;\n",
              "      fill: #1967D2;\n",
              "      height: 32px;\n",
              "      padding: 0 0 0 0;\n",
              "      width: 32px;\n",
              "    }\n",
              "\n",
              "    .colab-df-convert:hover {\n",
              "      background-color: #E2EBFA;\n",
              "      box-shadow: 0px 1px 2px rgba(60, 64, 67, 0.3), 0px 1px 3px 1px rgba(60, 64, 67, 0.15);\n",
              "      fill: #174EA6;\n",
              "    }\n",
              "\n",
              "    [theme=dark] .colab-df-convert {\n",
              "      background-color: #3B4455;\n",
              "      fill: #D2E3FC;\n",
              "    }\n",
              "\n",
              "    [theme=dark] .colab-df-convert:hover {\n",
              "      background-color: #434B5C;\n",
              "      box-shadow: 0px 1px 3px 1px rgba(0, 0, 0, 0.15);\n",
              "      filter: drop-shadow(0px 1px 2px rgba(0, 0, 0, 0.3));\n",
              "      fill: #FFFFFF;\n",
              "    }\n",
              "  </style>\n",
              "\n",
              "      <script>\n",
              "        const buttonEl =\n",
              "          document.querySelector('#df-4ff71a0e-fc3b-45bb-88e8-390b2139ca26 button.colab-df-convert');\n",
              "        buttonEl.style.display =\n",
              "          google.colab.kernel.accessAllowed ? 'block' : 'none';\n",
              "\n",
              "        async function convertToInteractive(key) {\n",
              "          const element = document.querySelector('#df-4ff71a0e-fc3b-45bb-88e8-390b2139ca26');\n",
              "          const dataTable =\n",
              "            await google.colab.kernel.invokeFunction('convertToInteractive',\n",
              "                                                     [key], {});\n",
              "          if (!dataTable) return;\n",
              "\n",
              "          const docLinkHtml = 'Like what you see? Visit the ' +\n",
              "            '<a target=\"_blank\" href=https://colab.research.google.com/notebooks/data_table.ipynb>data table notebook</a>'\n",
              "            + ' to learn more about interactive tables.';\n",
              "          element.innerHTML = '';\n",
              "          dataTable['output_type'] = 'display_data';\n",
              "          await google.colab.output.renderOutput(dataTable, element);\n",
              "          const docLink = document.createElement('div');\n",
              "          docLink.innerHTML = docLinkHtml;\n",
              "          element.appendChild(docLink);\n",
              "        }\n",
              "      </script>\n",
              "    </div>\n",
              "  </div>\n",
              "  "
            ]
          },
          "metadata": {},
          "execution_count": 5
        }
      ]
    },
    {
      "cell_type": "code",
      "source": [
        "df = data\n",
        "df = df.drop([0], axis = 0)\n",
        "df = df.set_index('no')"
      ],
      "metadata": {
        "id": "xdmGdsJEwIRb"
      },
      "execution_count": 6,
      "outputs": []
    },
    {
      "cell_type": "code",
      "source": [
        "df.dropna(inplace=True)"
      ],
      "metadata": {
        "id": "j1V78J4WwUyT"
      },
      "execution_count": 7,
      "outputs": []
    },
    {
      "cell_type": "code",
      "source": [
        "df = df.astype('float')"
      ],
      "metadata": {
        "id": "bfTmBWeywXWF"
      },
      "execution_count": 8,
      "outputs": []
    },
    {
      "cell_type": "code",
      "source": [
        "# X(SeriousDlqin2yrs을 제외한 feature들), y(SeriousDlqin2yrs) 분리\n",
        "y = df['SeriousDlqin2yrs']\n",
        "X = df.drop(columns='SeriousDlqin2yrs')\n",
        "print(type(X), type(y))\n",
        "X.columns, y.name"
      ],
      "metadata": {
        "colab": {
          "base_uri": "https://localhost:8080/"
        },
        "id": "H20FwRS2wYue",
        "outputId": "49cc5deb-575a-4bdf-b437-7acf03e249a6"
      },
      "execution_count": 9,
      "outputs": [
        {
          "output_type": "stream",
          "name": "stdout",
          "text": [
            "<class 'pandas.core.frame.DataFrame'> <class 'pandas.core.series.Series'>\n"
          ]
        },
        {
          "output_type": "execute_result",
          "data": {
            "text/plain": [
              "(Index(['RevolvingUtilizationOfUnsecuredLines', 'age',\n",
              "        'NumberOfTime30-59DaysPastDueNotWorse', 'DebtRatio', 'MonthlyIncome',\n",
              "        'NumberOfOpenCreditLinesAndLoans', 'NumberOfTimes90DaysLate',\n",
              "        'NumberRealEstateLoansOrLines', 'NumberOfTime60-89DaysPastDueNotWorse',\n",
              "        'NumberOfDependents'],\n",
              "       dtype='object'), 'SeriousDlqin2yrs')"
            ]
          },
          "metadata": {},
          "execution_count": 9
        }
      ]
    },
    {
      "cell_type": "code",
      "source": [
        "from sklearn.model_selection import train_test_split\n",
        "X_train, X_test, y_train, y_test = train_test_split(X, y, test_size=0.2, stratify=y, random_state=0)  #test set 분리\n",
        "# X_train, X_val, y_train, y_val = train_test_split(X_train, y_train, test_size=0.25, stratify=y_train, random_state=0) # train/val set 분리\n",
        "\n",
        "print(X_train.shape, X_test.shape)"
      ],
      "metadata": {
        "colab": {
          "base_uri": "https://localhost:8080/"
        },
        "id": "i6OVtHBFwa0i",
        "outputId": "a1bbb41f-d624-4cc9-ecca-fabd93ee7424"
      },
      "execution_count": 10,
      "outputs": [
        {
          "output_type": "stream",
          "name": "stdout",
          "text": [
            "(96215, 10) (24054, 10)\n"
          ]
        }
      ]
    },
    {
      "cell_type": "code",
      "source": [
        "from sklearn.metrics import accuracy_score, recall_score, precision_score, f1_score, confusion_matrix, ConfusionMatrixDisplay\n",
        "from sklearn.metrics import precision_recall_curve, average_precision_score, PrecisionRecallDisplay, roc_curve, roc_auc_score, RocCurveDisplay\n",
        "import matplotlib.pyplot as plt\n",
        "\n",
        "# 분류문제 평가 함수\n",
        "def print_metrics_classification(y, pred, title=None):\n",
        "   \"\"\"\n",
        "   정답(target)과 모델이 추론한 값을 받아 정확도, 재현율, 정밀도, f1 점수를 출력\n",
        "   [parameter]\n",
        "       y: ndarray - 정답(target)\n",
        "       pred: ndarray - 모델이 추론한 결과\n",
        "       title: str - 출력할 내용의 title. 기본값: None = 출력안한다.\n",
        "   [return value]\n",
        "   [exception]\n",
        "   \"\"\"\n",
        "   if title:\n",
        "       print(title)\n",
        "   print('정확도(accuracy):', accuracy_score(y, pred))\n",
        "   print('재현율(recall):', recall_score(y, pred))\n",
        "   print('정밀도(precision)', precision_score(y, pred))\n",
        "   print('F1점수:', f1_score(y, pred))\n",
        "\n",
        "def plot_confusionmatrix(y, pred, title=None):\n",
        "   \"\"\"\n",
        "   정답과 모델이 추론한 결과를 이용해 Confusion Matrix를 시각화(히트맵)하는 함수\n",
        "   [parameter]\n",
        "       y: ndarray - 정답(target)\n",
        "       pred: ndarray - 모델이 추론한 결과\n",
        "       title: str - 출력할 내용의 title. 기본값: None = 출력안한다.\n",
        "   \"\"\"\n",
        "   cm = confusion_matrix(y, pred)\n",
        "   disp = ConfusionMatrixDisplay(cm)\n",
        "   disp.plot(cmap='Blues')\n",
        "   if title:\n",
        "       plt.title(title)\n",
        "   plt.show()\n",
        "\n",
        "   \n",
        "def plot_precisionrecall_curve(y, pos_proba, title=None):\n",
        "   \"\"\"\n",
        "   Precision Recall Curve 를 시각화하는 함수\n",
        "   [parameter]\n",
        "       y: ndarray - 정답\n",
        "       pos_proba: ndarray - positive(양성)의 확률\n",
        "       title: str - 출력할 내용의 title\n",
        "   \"\"\"\n",
        "   ap_score = average_precision_score(y, pos_proba)\n",
        "   precisions, recalls, threshs = precision_recall_curve(y, pos_proba)\n",
        "   disp = PrecisionRecallDisplay(precisions, recalls, average_precision=ap_score)\n",
        "   disp.plot()\n",
        "   if title:\n",
        "       plt.title(title)\n",
        "   plt.show()\n",
        "   \n",
        "def plot_roccurve(y, pos_proba, title=None):\n",
        "   \"\"\"\n",
        "   ROC Curve를 시각화하는 함수\n",
        "   [parameter]\n",
        "       y: ndarry - 정답\n",
        "       pos_proba: ndarray - positive(양성)의 확률\n",
        "       title: str - 출력할 내용의 title\n",
        "   \"\"\"\n",
        "   auc_score = roc_auc_score(y, pos_proba)\n",
        "   fprs, tprs, threshs = roc_curve(y, pos_proba)\n",
        "   disp = RocCurveDisplay(fpr=fprs, tpr=tprs, roc_auc=auc_score)\n",
        "   disp.plot()\n",
        "   if title:\n",
        "       plt.title(title)\n",
        "   plt.show()\n"
      ],
      "metadata": {
        "id": "HkgrKuJxwr7H"
      },
      "execution_count": 12,
      "outputs": []
    },
    {
      "cell_type": "code",
      "source": [
        "from sklearn.preprocessing import StandardScaler\n",
        "from sklearn.model_selection import  GridSearchCV\n",
        "from sklearn.pipeline import Pipeline\n",
        "\n",
        "# 모델들\n",
        "from sklearn.svm import SVC\n",
        "from sklearn.neighbors import KNeighborsClassifier\n",
        "from sklearn.ensemble import RandomForestClassifier, VotingClassifier\n",
        "from sklearn.linear_model import LogisticRegression\n",
        "from xgboost import XGBClassifier\n",
        "\n",
        "\n",
        "from sklearn.metrics import roc_auc_score"
      ],
      "metadata": {
        "id": "d6s3p0XXwc9k"
      },
      "execution_count": 13,
      "outputs": []
    },
    {
      "cell_type": "code",
      "source": [
        "scaler = StandardScaler()\n",
        "X_train_scaled = scaler.fit_transform(X_train)\n",
        "X_test_scaled = scaler.transform(X_test)"
      ],
      "metadata": {
        "id": "Jt16jRbnwigr"
      },
      "execution_count": 14,
      "outputs": []
    },
    {
      "cell_type": "code",
      "source": [
        "svm = Pipeline([('scaler', StandardScaler()), \n",
        "                (\"svm\", SVC(random_state=0))], \n",
        "              verbose=True)\n",
        "knn = Pipeline([('scaler', StandardScaler()),\n",
        "                ('knn', KNeighborsClassifier(n_neighbors=5))\n",
        "               ], verbose=True)\n",
        "lr = Pipeline([('scaler', StandardScaler()),\n",
        "               ('lr', LogisticRegression(max_iter=1000, random_state=0))])\n",
        "\n",
        "rfc = RandomForestClassifier(n_estimators=200, max_depth=4, random_state=0)\n",
        "\n",
        "xgb = XGBClassifier(n_estimators=200, max_depth=2, random_state=0)"
      ],
      "metadata": {
        "id": "zXEhQciEwvRj"
      },
      "execution_count": 15,
      "outputs": []
    },
    {
      "cell_type": "code",
      "source": [
        "estimators = [('svm', svm),  #(모델이름, 모델객체)\n",
        "              ('knn', knn), \n",
        "              ('LogisticRegression', lr), \n",
        "              ('Random Forest', rfc),\n",
        "              ('XGBoost', xgb)]\n",
        "\n",
        "# 각 모델의 test set 추론 결과를 저장할 딕셔너리\n",
        "pred_test_dict = {}\n",
        "\n",
        "for model_name, model  in estimators:\n",
        "    # 학습\n",
        "    model.fit(X_train_scaled, y_train)\n",
        "    # 추론\n",
        "    pred_train = model.predict(X_train_scaled)\n",
        "    pred_test = model.predict(X_test_scaled)\n",
        "    \n",
        "    pred_test_dict[model_name] = pred_test\n",
        "    \n",
        "    # 평가\n",
        "    print(model_name)\n",
        "    print(roc_auc_score(y_train, pred_train))\n",
        "    print_metrics_classification(y_train,pred_train,\"Trainset 평가\")\n",
        "    print(\"=============\")\n",
        "    print_metrics_classification(y_test,pred_test,\"testset 평가\")\n",
        "#     print_metrics_classification(y_train, pred_train, f'{model_name}의 Train set 평가')\n",
        "#     print('-------------------------')\n",
        "#     print_metrics_classification(y_test, pred_test, f'{model_name}의 Test set 평가')\n",
        "#     print(\"================================================\")"
      ],
      "metadata": {
        "colab": {
          "base_uri": "https://localhost:8080/"
        },
        "id": "nRHnSysPw03j",
        "outputId": "bd4c1cf8-f1a5-4b25-dcac-1f862dc40919"
      },
      "execution_count": 22,
      "outputs": [
        {
          "output_type": "stream",
          "name": "stdout",
          "text": [
            "[Pipeline] ............ (step 1 of 2) Processing scaler, total=   0.0s\n",
            "[Pipeline] ............... (step 2 of 2) Processing svm, total= 9.1min\n",
            "svm\n",
            "0.5260507003302326\n",
            "Trainset 평가\n",
            "정확도(accuracy): 0.9326300472899236\n",
            "재현율(recall): 0.05384385282680227\n",
            "정밀도(precision) 0.6976744186046512\n",
            "F1점수: 0.09997222993612884\n",
            "=============\n",
            "testset 평가\n",
            "정확도(accuracy): 0.9336908622266566\n",
            "재현율(recall): 0.06403351286654697\n",
            "정밀도(precision) 0.7753623188405797\n",
            "F1점수: 0.11829740187949142\n",
            "[Pipeline] ............ (step 1 of 2) Processing scaler, total=   0.0s\n",
            "[Pipeline] ............... (step 2 of 2) Processing knn, total=   0.1s\n",
            "knn\n",
            "0.6106465428456718\n",
            "Trainset 평가\n",
            "정확도(accuracy): 0.9401652548978849\n",
            "재현율(recall): 0.2279389769667963\n",
            "정밀도(precision) 0.7192071731949032\n",
            "F1점수: 0.3461669505962521\n",
            "=============\n",
            "testset 평가\n",
            "정확도(accuracy): 0.9291178182422882\n",
            "재현율(recall): 0.13764213046080193\n",
            "정밀도(precision) 0.46558704453441296\n",
            "F1점수: 0.21247113163972287\n",
            "LogisticRegression\n",
            "0.5162137940908937\n",
            "Trainset 평가\n",
            "정확도(accuracy): 0.9309359247518578\n",
            "재현율(recall): 0.03454980556386479\n",
            "정밀도(precision) 0.5486935866983373\n",
            "F1점수: 0.06500633178556352\n",
            "=============\n",
            "testset 평가\n",
            "정확도(accuracy): 0.932111083395693\n",
            "재현율(recall): 0.043686415320167565\n",
            "정밀도(precision) 0.6759259259259259\n",
            "F1점수: 0.08206857785272625\n",
            "Random Forest\n",
            "0.5367888364502919\n",
            "Trainset 평가\n",
            "정확도(accuracy): 0.9329106688146339\n",
            "재현율(recall): 0.07672749027819324\n",
            "정밀도(precision) 0.6452830188679245\n",
            "F1점수: 0.13714744018179387\n",
            "=============\n",
            "testset 평가\n",
            "정확도(accuracy): 0.9341897397522242\n",
            "재현율(recall): 0.0921603830041891\n",
            "정밀도(precision) 0.7\n",
            "F1점수: 0.16287678476996298\n",
            "XGBoost\n",
            "0.587917262069142\n",
            "Trainset 평가\n",
            "정확도(accuracy): 0.9350828872836876\n",
            "재현율(recall): 0.18471432844750224\n",
            "정밀도(precision) 0.6083743842364532\n",
            "F1점수: 0.28338687471317114\n",
            "=============\n",
            "testset 평가\n",
            "정확도(accuracy): 0.9355616529475347\n",
            "재현율(recall): 0.19389587073608616\n",
            "정밀도(precision) 0.6148007590132827\n",
            "F1점수: 0.29481346678798903\n"
          ]
        }
      ]
    },
    {
      "cell_type": "code",
      "source": [
        "y_test.shape, pred_train.shape"
      ],
      "metadata": {
        "colab": {
          "base_uri": "https://localhost:8080/"
        },
        "id": "5H9CohWAzztK",
        "outputId": "41fd0a1f-09e4-49bb-f472-a5ab9296a693"
      },
      "execution_count": 31,
      "outputs": [
        {
          "output_type": "execute_result",
          "data": {
            "text/plain": [
              "((24054,), (96215,))"
            ]
          },
          "metadata": {},
          "execution_count": 31
        }
      ]
    },
    {
      "cell_type": "code",
      "source": [
        "from sklearn.tree import DecisionTreeClassifier\n",
        "\n",
        "max_depth = None\n",
        "tree = DecisionTreeClassifier(max_depth=8, random_state=0, min_samples_split=12)\n",
        "tree.fit(X_train_scaled, y_train)\n",
        "\n",
        "pred_train6 = tree.predict(X_train_scaled)\n",
        "pred_test6 = tree.predict(X_test_scaled)\n",
        "\n",
        "pred_train_proba6 = tree.predict_proba(X_train_scaled)[:, 1]\n",
        "pred_test_proba6 = tree.predict_proba(X_test_scaled)[:, 1]"
      ],
      "metadata": {
        "id": "tECvNUNBw3bX"
      },
      "execution_count": 32,
      "outputs": []
    },
    {
      "cell_type": "code",
      "source": [
        "tree_auc=roc_auc_score(y_test, pred_test6)\n",
        "print(tree_auc)\n",
        "print_metrics_classification(y_train,pred_train6,\"Trainset 평가\")\n",
        "print(\"=============\")\n",
        "print_metrics_classification(y_test,pred_test6,\"testset 평가\")"
      ],
      "metadata": {
        "colab": {
          "base_uri": "https://localhost:8080/"
        },
        "id": "wzjaBHPQ4XHS",
        "outputId": "3bb8b38d-8c6d-42ec-c1ae-df1d9c5706fc"
      },
      "execution_count": 33,
      "outputs": [
        {
          "output_type": "stream",
          "name": "stdout",
          "text": [
            "0.5919882531393447\n",
            "Trainset 평가\n",
            "정확도(accuracy): 0.938086576937068\n",
            "재현율(recall): 0.22090936284774154\n",
            "정밀도(precision) 0.6638202247191011\n",
            "F1점수: 0.3315003927729772\n",
            "=============\n",
            "testset 평가\n",
            "정확도(accuracy): 0.9321942296499542\n",
            "재현율(recall): 0.1968880909634949\n",
            "정밀도(precision) 0.5323624595469255\n",
            "F1점수: 0.2874617737003058\n"
          ]
        }
      ]
    },
    {
      "cell_type": "code",
      "source": [],
      "metadata": {
        "id": "rpM-vCZV6Lc9"
      },
      "execution_count": null,
      "outputs": []
    },
    {
      "cell_type": "code",
      "source": [
        "\"\"\"\n",
        "0.6143580370169044\n",
        "Trainset 평가\n",
        "정확도(accuracy): 0.9999792132203918\n",
        "재현율(recall): 0.9998504337421478\n",
        "정밀도(precision) 0.9998504337421478\n",
        "F1점수: 0.9998504337421478\n",
        "=============\n",
        "testset 평가\n",
        "정확도(accuracy): 0.8924087469859483\n",
        "재현율(recall): 0.291442250149611\n",
        "정밀도(precision) 0.25753569539925963\n",
        "F1점수: 0.2734418865805727\n",
        "\n",
        "\n",
        "\n",
        "\n",
        "maxd 8 minl 12\n",
        "\"\"\"\n"
      ],
      "metadata": {
        "id": "5v1-OsL56LlB"
      },
      "execution_count": null,
      "outputs": []
    },
    {
      "cell_type": "code",
      "source": [
        "from sklearn.model_selection import RandomizedSearchCV\n",
        "\n",
        "params = {\n",
        "    'max_depth':range(2,15,1), \n",
        "    \"min_samples_split\":range(2,21,2),\n",
        "    \"min_samples_leaf\":[0.01, 0.02, 0.03,0.04, 0.05], \n",
        "    \"max_leaf_nodes\": range(10, 71, 5),\n",
        "    \"max_features\":['auto', 0.95, 0.9, 0.85, 0.8, 0.75, 0.7],\n",
        "    \"splitter\":['random', 'best']\n",
        "}"
      ],
      "metadata": {
        "id": "SyPb6ON_4lMj"
      },
      "execution_count": 26,
      "outputs": []
    },
    {
      "cell_type": "code",
      "source": [
        "rs = RandomizedSearchCV(DecisionTreeClassifier(random_state=0), \n",
        "                        params, \n",
        "                        n_iter=100,  # 몇개의 조합만 테스트 할 것인지 개수.\n",
        "                        scoring='roc_auc', \n",
        "                        cv=5,\n",
        "                        n_jobs=-1\n",
        "                       )\n",
        "rs.fit(X_train_scaled, y_train)"
      ],
      "metadata": {
        "colab": {
          "base_uri": "https://localhost:8080/"
        },
        "id": "3BdiE_2P41iy",
        "outputId": "1ed534e5-bcea-45a1-9d41-5163306dd526"
      },
      "execution_count": 29,
      "outputs": [
        {
          "output_type": "execute_result",
          "data": {
            "text/plain": [
              "RandomizedSearchCV(cv=5, estimator=DecisionTreeClassifier(random_state=0),\n",
              "                   n_iter=100, n_jobs=-1,\n",
              "                   param_distributions={'max_depth': range(2, 15),\n",
              "                                        'max_features': ['auto', 0.95, 0.9,\n",
              "                                                         0.85, 0.8, 0.75, 0.7],\n",
              "                                        'max_leaf_nodes': range(10, 71, 5),\n",
              "                                        'min_samples_leaf': [0.01, 0.02, 0.03,\n",
              "                                                             0.04, 0.05],\n",
              "                                        'min_samples_split': range(2, 21, 2),\n",
              "                                        'splitter': ['random', 'best']},\n",
              "                   scoring='roc_auc')"
            ]
          },
          "metadata": {},
          "execution_count": 29
        }
      ]
    },
    {
      "cell_type": "code",
      "source": [
        "#roc_auc기반\n",
        "from sklearn.metrics import average_precision_score, roc_auc_score\n",
        "\n",
        "grid3 = GridSearchCV(DecisionTreeClassifier(random_state=0),param_grid=params, scoring =\"roc_auc\")\n",
        "grid3.fit(X_train,y_train)\n",
        "y_pred33 = grid3.decision_function(X_test)\n",
        "print(grid3.best_params_)\n",
        "print(grid3.best_score_)\n",
        "print(grid3.score(X_test,y_test)) #해당것 score\n",
        "print(roc_auc_score(y_test,y_pred33)) #roc score\n",
        "\n",
        "print(\"얘는 NG\")\n",
        "y_pred3 = grid3.predict(X_test) #테스트 데이터로 예측값 받음\n",
        "print(roc_auc_score(y_test,y_pred3)) #roc score"
      ],
      "metadata": {
        "id": "ej1Tc56f6pnh"
      },
      "execution_count": null,
      "outputs": []
    },
    {
      "cell_type": "code",
      "source": [
        "pd.DataFrame(rs.cv_results_).sort_values('rank_test_score').head()"
      ],
      "metadata": {
        "colab": {
          "base_uri": "https://localhost:8080/",
          "height": 444
        },
        "id": "EN9FZ7uS5Thb",
        "outputId": "872dcf78-65e5-4244-abe4-d4c4235d8d6d"
      },
      "execution_count": 30,
      "outputs": [
        {
          "output_type": "execute_result",
          "data": {
            "text/plain": [
              "    mean_fit_time  std_fit_time  mean_score_time  std_score_time  \\\n",
              "59       0.240167      0.006953         0.011253        0.000750   \n",
              "27       0.254975      0.012476         0.010658        0.000103   \n",
              "53       0.249977      0.009856         0.010463        0.000124   \n",
              "91       0.291363      0.008916         0.011696        0.000567   \n",
              "69       0.284628      0.012817         0.010785        0.000166   \n",
              "\n",
              "   param_splitter param_min_samples_split param_min_samples_leaf  \\\n",
              "59           best                       4                   0.01   \n",
              "27           best                      12                   0.01   \n",
              "53           best                      14                   0.01   \n",
              "91           best                       4                   0.01   \n",
              "69           best                      16                   0.01   \n",
              "\n",
              "   param_max_leaf_nodes param_max_features param_max_depth  \\\n",
              "59                   50                0.7               7   \n",
              "27                   30               0.75              12   \n",
              "53                   25               0.75              13   \n",
              "91                   40               0.95               7   \n",
              "69                   35                0.8              13   \n",
              "\n",
              "                                               params  split0_test_score  \\\n",
              "59  {'splitter': 'best', 'min_samples_split': 4, '...           0.833441   \n",
              "27  {'splitter': 'best', 'min_samples_split': 12, ...           0.831212   \n",
              "53  {'splitter': 'best', 'min_samples_split': 14, ...           0.828755   \n",
              "91  {'splitter': 'best', 'min_samples_split': 4, '...           0.825944   \n",
              "69  {'splitter': 'best', 'min_samples_split': 16, ...           0.826391   \n",
              "\n",
              "    split1_test_score  split2_test_score  split3_test_score  \\\n",
              "59           0.841572           0.845392           0.841378   \n",
              "27           0.840840           0.846064           0.841824   \n",
              "53           0.838388           0.845461           0.841362   \n",
              "91           0.843303           0.843239           0.837545   \n",
              "69           0.838205           0.846455           0.839447   \n",
              "\n",
              "    split4_test_score  mean_test_score  std_test_score  rank_test_score  \n",
              "59           0.834418         0.839240        0.004577                1  \n",
              "27           0.833766         0.838741        0.005458                2  \n",
              "53           0.833311         0.837456        0.005884                3  \n",
              "91           0.833655         0.836737        0.006512                4  \n",
              "69           0.828246         0.835749        0.007459                5  "
            ],
            "text/html": [
              "\n",
              "  <div id=\"df-3325a821-dfcf-4b43-8c82-cbddd3ac2836\">\n",
              "    <div class=\"colab-df-container\">\n",
              "      <div>\n",
              "<style scoped>\n",
              "    .dataframe tbody tr th:only-of-type {\n",
              "        vertical-align: middle;\n",
              "    }\n",
              "\n",
              "    .dataframe tbody tr th {\n",
              "        vertical-align: top;\n",
              "    }\n",
              "\n",
              "    .dataframe thead th {\n",
              "        text-align: right;\n",
              "    }\n",
              "</style>\n",
              "<table border=\"1\" class=\"dataframe\">\n",
              "  <thead>\n",
              "    <tr style=\"text-align: right;\">\n",
              "      <th></th>\n",
              "      <th>mean_fit_time</th>\n",
              "      <th>std_fit_time</th>\n",
              "      <th>mean_score_time</th>\n",
              "      <th>std_score_time</th>\n",
              "      <th>param_splitter</th>\n",
              "      <th>param_min_samples_split</th>\n",
              "      <th>param_min_samples_leaf</th>\n",
              "      <th>param_max_leaf_nodes</th>\n",
              "      <th>param_max_features</th>\n",
              "      <th>param_max_depth</th>\n",
              "      <th>params</th>\n",
              "      <th>split0_test_score</th>\n",
              "      <th>split1_test_score</th>\n",
              "      <th>split2_test_score</th>\n",
              "      <th>split3_test_score</th>\n",
              "      <th>split4_test_score</th>\n",
              "      <th>mean_test_score</th>\n",
              "      <th>std_test_score</th>\n",
              "      <th>rank_test_score</th>\n",
              "    </tr>\n",
              "  </thead>\n",
              "  <tbody>\n",
              "    <tr>\n",
              "      <th>59</th>\n",
              "      <td>0.240167</td>\n",
              "      <td>0.006953</td>\n",
              "      <td>0.011253</td>\n",
              "      <td>0.000750</td>\n",
              "      <td>best</td>\n",
              "      <td>4</td>\n",
              "      <td>0.01</td>\n",
              "      <td>50</td>\n",
              "      <td>0.7</td>\n",
              "      <td>7</td>\n",
              "      <td>{'splitter': 'best', 'min_samples_split': 4, '...</td>\n",
              "      <td>0.833441</td>\n",
              "      <td>0.841572</td>\n",
              "      <td>0.845392</td>\n",
              "      <td>0.841378</td>\n",
              "      <td>0.834418</td>\n",
              "      <td>0.839240</td>\n",
              "      <td>0.004577</td>\n",
              "      <td>1</td>\n",
              "    </tr>\n",
              "    <tr>\n",
              "      <th>27</th>\n",
              "      <td>0.254975</td>\n",
              "      <td>0.012476</td>\n",
              "      <td>0.010658</td>\n",
              "      <td>0.000103</td>\n",
              "      <td>best</td>\n",
              "      <td>12</td>\n",
              "      <td>0.01</td>\n",
              "      <td>30</td>\n",
              "      <td>0.75</td>\n",
              "      <td>12</td>\n",
              "      <td>{'splitter': 'best', 'min_samples_split': 12, ...</td>\n",
              "      <td>0.831212</td>\n",
              "      <td>0.840840</td>\n",
              "      <td>0.846064</td>\n",
              "      <td>0.841824</td>\n",
              "      <td>0.833766</td>\n",
              "      <td>0.838741</td>\n",
              "      <td>0.005458</td>\n",
              "      <td>2</td>\n",
              "    </tr>\n",
              "    <tr>\n",
              "      <th>53</th>\n",
              "      <td>0.249977</td>\n",
              "      <td>0.009856</td>\n",
              "      <td>0.010463</td>\n",
              "      <td>0.000124</td>\n",
              "      <td>best</td>\n",
              "      <td>14</td>\n",
              "      <td>0.01</td>\n",
              "      <td>25</td>\n",
              "      <td>0.75</td>\n",
              "      <td>13</td>\n",
              "      <td>{'splitter': 'best', 'min_samples_split': 14, ...</td>\n",
              "      <td>0.828755</td>\n",
              "      <td>0.838388</td>\n",
              "      <td>0.845461</td>\n",
              "      <td>0.841362</td>\n",
              "      <td>0.833311</td>\n",
              "      <td>0.837456</td>\n",
              "      <td>0.005884</td>\n",
              "      <td>3</td>\n",
              "    </tr>\n",
              "    <tr>\n",
              "      <th>91</th>\n",
              "      <td>0.291363</td>\n",
              "      <td>0.008916</td>\n",
              "      <td>0.011696</td>\n",
              "      <td>0.000567</td>\n",
              "      <td>best</td>\n",
              "      <td>4</td>\n",
              "      <td>0.01</td>\n",
              "      <td>40</td>\n",
              "      <td>0.95</td>\n",
              "      <td>7</td>\n",
              "      <td>{'splitter': 'best', 'min_samples_split': 4, '...</td>\n",
              "      <td>0.825944</td>\n",
              "      <td>0.843303</td>\n",
              "      <td>0.843239</td>\n",
              "      <td>0.837545</td>\n",
              "      <td>0.833655</td>\n",
              "      <td>0.836737</td>\n",
              "      <td>0.006512</td>\n",
              "      <td>4</td>\n",
              "    </tr>\n",
              "    <tr>\n",
              "      <th>69</th>\n",
              "      <td>0.284628</td>\n",
              "      <td>0.012817</td>\n",
              "      <td>0.010785</td>\n",
              "      <td>0.000166</td>\n",
              "      <td>best</td>\n",
              "      <td>16</td>\n",
              "      <td>0.01</td>\n",
              "      <td>35</td>\n",
              "      <td>0.8</td>\n",
              "      <td>13</td>\n",
              "      <td>{'splitter': 'best', 'min_samples_split': 16, ...</td>\n",
              "      <td>0.826391</td>\n",
              "      <td>0.838205</td>\n",
              "      <td>0.846455</td>\n",
              "      <td>0.839447</td>\n",
              "      <td>0.828246</td>\n",
              "      <td>0.835749</td>\n",
              "      <td>0.007459</td>\n",
              "      <td>5</td>\n",
              "    </tr>\n",
              "  </tbody>\n",
              "</table>\n",
              "</div>\n",
              "      <button class=\"colab-df-convert\" onclick=\"convertToInteractive('df-3325a821-dfcf-4b43-8c82-cbddd3ac2836')\"\n",
              "              title=\"Convert this dataframe to an interactive table.\"\n",
              "              style=\"display:none;\">\n",
              "        \n",
              "  <svg xmlns=\"http://www.w3.org/2000/svg\" height=\"24px\"viewBox=\"0 0 24 24\"\n",
              "       width=\"24px\">\n",
              "    <path d=\"M0 0h24v24H0V0z\" fill=\"none\"/>\n",
              "    <path d=\"M18.56 5.44l.94 2.06.94-2.06 2.06-.94-2.06-.94-.94-2.06-.94 2.06-2.06.94zm-11 1L8.5 8.5l.94-2.06 2.06-.94-2.06-.94L8.5 2.5l-.94 2.06-2.06.94zm10 10l.94 2.06.94-2.06 2.06-.94-2.06-.94-.94-2.06-.94 2.06-2.06.94z\"/><path d=\"M17.41 7.96l-1.37-1.37c-.4-.4-.92-.59-1.43-.59-.52 0-1.04.2-1.43.59L10.3 9.45l-7.72 7.72c-.78.78-.78 2.05 0 2.83L4 21.41c.39.39.9.59 1.41.59.51 0 1.02-.2 1.41-.59l7.78-7.78 2.81-2.81c.8-.78.8-2.07 0-2.86zM5.41 20L4 18.59l7.72-7.72 1.47 1.35L5.41 20z\"/>\n",
              "  </svg>\n",
              "      </button>\n",
              "      \n",
              "  <style>\n",
              "    .colab-df-container {\n",
              "      display:flex;\n",
              "      flex-wrap:wrap;\n",
              "      gap: 12px;\n",
              "    }\n",
              "\n",
              "    .colab-df-convert {\n",
              "      background-color: #E8F0FE;\n",
              "      border: none;\n",
              "      border-radius: 50%;\n",
              "      cursor: pointer;\n",
              "      display: none;\n",
              "      fill: #1967D2;\n",
              "      height: 32px;\n",
              "      padding: 0 0 0 0;\n",
              "      width: 32px;\n",
              "    }\n",
              "\n",
              "    .colab-df-convert:hover {\n",
              "      background-color: #E2EBFA;\n",
              "      box-shadow: 0px 1px 2px rgba(60, 64, 67, 0.3), 0px 1px 3px 1px rgba(60, 64, 67, 0.15);\n",
              "      fill: #174EA6;\n",
              "    }\n",
              "\n",
              "    [theme=dark] .colab-df-convert {\n",
              "      background-color: #3B4455;\n",
              "      fill: #D2E3FC;\n",
              "    }\n",
              "\n",
              "    [theme=dark] .colab-df-convert:hover {\n",
              "      background-color: #434B5C;\n",
              "      box-shadow: 0px 1px 3px 1px rgba(0, 0, 0, 0.15);\n",
              "      filter: drop-shadow(0px 1px 2px rgba(0, 0, 0, 0.3));\n",
              "      fill: #FFFFFF;\n",
              "    }\n",
              "  </style>\n",
              "\n",
              "      <script>\n",
              "        const buttonEl =\n",
              "          document.querySelector('#df-3325a821-dfcf-4b43-8c82-cbddd3ac2836 button.colab-df-convert');\n",
              "        buttonEl.style.display =\n",
              "          google.colab.kernel.accessAllowed ? 'block' : 'none';\n",
              "\n",
              "        async function convertToInteractive(key) {\n",
              "          const element = document.querySelector('#df-3325a821-dfcf-4b43-8c82-cbddd3ac2836');\n",
              "          const dataTable =\n",
              "            await google.colab.kernel.invokeFunction('convertToInteractive',\n",
              "                                                     [key], {});\n",
              "          if (!dataTable) return;\n",
              "\n",
              "          const docLinkHtml = 'Like what you see? Visit the ' +\n",
              "            '<a target=\"_blank\" href=https://colab.research.google.com/notebooks/data_table.ipynb>data table notebook</a>'\n",
              "            + ' to learn more about interactive tables.';\n",
              "          element.innerHTML = '';\n",
              "          dataTable['output_type'] = 'display_data';\n",
              "          await google.colab.output.renderOutput(dataTable, element);\n",
              "          const docLink = document.createElement('div');\n",
              "          docLink.innerHTML = docLinkHtml;\n",
              "          element.appendChild(docLink);\n",
              "        }\n",
              "      </script>\n",
              "    </div>\n",
              "  </div>\n",
              "  "
            ]
          },
          "metadata": {},
          "execution_count": 30
        }
      ]
    },
    {
      "cell_type": "code",
      "source": [
        "# rs.feature_importances_\n",
        "best_model = rs.best_estimator_\n",
        "fi = pd.Series(best_model.feature_importances_, index=X.columns)\n",
        "fi.sort_values(ascending=False)"
      ],
      "metadata": {
        "colab": {
          "base_uri": "https://localhost:8080/"
        },
        "id": "slFvWyf75r6q",
        "outputId": "902762b4-8e21-4a5c-8b0e-985cdb181612"
      },
      "execution_count": 43,
      "outputs": [
        {
          "output_type": "execute_result",
          "data": {
            "text/plain": [
              "NumberOfTimes90DaysLate                 0.644981\n",
              "RevolvingUtilizationOfUnsecuredLines    0.173467\n",
              "NumberOfTime30-59DaysPastDueNotWorse    0.133395\n",
              "NumberOfTime60-89DaysPastDueNotWorse    0.022378\n",
              "DebtRatio                               0.008666\n",
              "age                                     0.006584\n",
              "NumberRealEstateLoansOrLines            0.003775\n",
              "NumberOfOpenCreditLinesAndLoans         0.003522\n",
              "MonthlyIncome                           0.001842\n",
              "NumberOfDependents                      0.001389\n",
              "dtype: float64"
            ]
          },
          "metadata": {},
          "execution_count": 43
        }
      ]
    },
    {
      "cell_type": "code",
      "source": [
        "# 필요없는거 떨어뜨릭 다시 스케일링\n",
        "not_importance  = ['NumberOfDependents', 'MonthlyIncome', 'NumberRealEstateLoansOrLines', 'NumberOfOpenCreditLinesAndLoans']\n",
        "X_train2 = X_train.drop(columns=not_importance)\n",
        "X_test2 = X_test.drop(columns=not_importance)\n",
        "y_test2 = y_test.drop(columns=not_importance)\n",
        "X_train.shape, X_train2.shape, X_test2.shape"
      ],
      "metadata": {
        "colab": {
          "base_uri": "https://localhost:8080/"
        },
        "id": "GZ9IQlkl6132",
        "outputId": "f312f2eb-a471-4f43-95ac-b38df3b9e874"
      },
      "execution_count": 57,
      "outputs": [
        {
          "output_type": "execute_result",
          "data": {
            "text/plain": [
              "((96215, 10), (96215, 6), (24054, 6))"
            ]
          },
          "metadata": {},
          "execution_count": 57
        }
      ]
    },
    {
      "cell_type": "code",
      "source": [
        "X_train_scaled2 = scaler.fit_transform(X_train2)\n",
        "X_test_scaled2 = scaler.transform(X_test2)"
      ],
      "metadata": {
        "id": "1tpeXNsg7i2R"
      },
      "execution_count": 50,
      "outputs": []
    },
    {
      "cell_type": "code",
      "source": [
        "rs = RandomizedSearchCV(DecisionTreeClassifier(random_state=0), \n",
        "                        params, \n",
        "                        n_iter=100,  # 몇개의 조합만 테스트 할 것인지 개수.\n",
        "                        scoring='roc_auc', \n",
        "                        cv=5,\n",
        "                        n_jobs=-1\n",
        "                       )\n",
        "rs.fit(X_train_scaled2, y_train)"
      ],
      "metadata": {
        "colab": {
          "base_uri": "https://localhost:8080/"
        },
        "id": "an6x1Xp-7lKC",
        "outputId": "44143731-6842-4a5f-f091-e7bd9cfd2678"
      },
      "execution_count": 51,
      "outputs": [
        {
          "output_type": "execute_result",
          "data": {
            "text/plain": [
              "RandomizedSearchCV(cv=5, estimator=DecisionTreeClassifier(random_state=0),\n",
              "                   n_iter=100, n_jobs=-1,\n",
              "                   param_distributions={'max_depth': range(2, 15),\n",
              "                                        'max_features': ['auto', 0.95, 0.9,\n",
              "                                                         0.85, 0.8, 0.75, 0.7],\n",
              "                                        'max_leaf_nodes': range(10, 71, 5),\n",
              "                                        'min_samples_leaf': [0.01, 0.02, 0.03,\n",
              "                                                             0.04, 0.05],\n",
              "                                        'min_samples_split': range(2, 21, 2),\n",
              "                                        'splitter': ['random', 'best']},\n",
              "                   scoring='roc_auc')"
            ]
          },
          "metadata": {},
          "execution_count": 51
        }
      ]
    },
    {
      "cell_type": "code",
      "source": [
        "rs.best_estimator_"
      ],
      "metadata": {
        "colab": {
          "base_uri": "https://localhost:8080/"
        },
        "id": "fczzM-K_73wH",
        "outputId": "59499977-823c-4e09-d485-e9640d0d3463"
      },
      "execution_count": 53,
      "outputs": [
        {
          "output_type": "execute_result",
          "data": {
            "text/plain": [
              "DecisionTreeClassifier(max_depth=9, max_features=0.95, max_leaf_nodes=55,\n",
              "                       min_samples_leaf=0.01, min_samples_split=20,\n",
              "                       random_state=0)"
            ]
          },
          "metadata": {},
          "execution_count": 53
        }
      ]
    },
    {
      "cell_type": "code",
      "source": [
        "rs.best_score_"
      ],
      "metadata": {
        "colab": {
          "base_uri": "https://localhost:8080/"
        },
        "id": "0vhkRIjP73yp",
        "outputId": "2de8b0c9-05d7-4e01-e8b2-760f8229479d"
      },
      "execution_count": 54,
      "outputs": [
        {
          "output_type": "execute_result",
          "data": {
            "text/plain": [
              "0.840449353801797"
            ]
          },
          "metadata": {},
          "execution_count": 54
        }
      ]
    },
    {
      "cell_type": "code",
      "source": [
        "pd.DataFrame(rs.cv_results_).sort_values('rank_test_score').head()\n"
      ],
      "metadata": {
        "colab": {
          "base_uri": "https://localhost:8080/",
          "height": 444
        },
        "id": "IV2VrKm98yiU",
        "outputId": "ee2364f6-a8df-40fd-bb36-5e6a0a8bb6cb"
      },
      "execution_count": 52,
      "outputs": [
        {
          "output_type": "execute_result",
          "data": {
            "text/plain": [
              "    mean_fit_time  std_fit_time  mean_score_time  std_score_time  \\\n",
              "11       0.221211      0.025997         0.011259        0.000175   \n",
              "3        0.214193      0.014781         0.010959        0.000242   \n",
              "5        0.209856      0.011217         0.011287        0.000652   \n",
              "94       0.106063      0.014628         0.010620        0.000641   \n",
              "60       0.192752      0.028142         0.011941        0.003005   \n",
              "\n",
              "   param_splitter param_min_samples_split param_min_samples_leaf  \\\n",
              "11           best                      20                   0.01   \n",
              "3            best                       2                   0.01   \n",
              "5            best                       6                   0.01   \n",
              "94           best                      20                   0.01   \n",
              "60           best                      18                   0.02   \n",
              "\n",
              "   param_max_leaf_nodes param_max_features param_max_depth  \\\n",
              "11                   55               0.95               9   \n",
              "3                    50               0.95               9   \n",
              "5                    60               0.85               9   \n",
              "94                   55               auto               8   \n",
              "60                   30               0.95               7   \n",
              "\n",
              "                                               params  split0_test_score  \\\n",
              "11  {'splitter': 'best', 'min_samples_split': 20, ...           0.827984   \n",
              "3   {'splitter': 'best', 'min_samples_split': 2, '...           0.827933   \n",
              "5   {'splitter': 'best', 'min_samples_split': 6, '...           0.827215   \n",
              "94  {'splitter': 'best', 'min_samples_split': 20, ...           0.827163   \n",
              "60  {'splitter': 'best', 'min_samples_split': 18, ...           0.823386   \n",
              "\n",
              "    split1_test_score  split2_test_score  split3_test_score  \\\n",
              "11           0.846479           0.848130           0.842967   \n",
              "3            0.846479           0.848076           0.843034   \n",
              "5            0.846479           0.848130           0.842967   \n",
              "94           0.841744           0.841960           0.842723   \n",
              "60           0.835277           0.841752           0.833423   \n",
              "\n",
              "    split4_test_score  mean_test_score  std_test_score  rank_test_score  \n",
              "11           0.836687         0.840449        0.007365                1  \n",
              "3            0.836687         0.840442        0.007376                2  \n",
              "5            0.836687         0.840296        0.007627                3  \n",
              "94           0.824800         0.835678        0.007959                4  \n",
              "60           0.828420         0.832452        0.006227                5  "
            ],
            "text/html": [
              "\n",
              "  <div id=\"df-61ac52df-cd29-499a-8007-848027e05cc7\">\n",
              "    <div class=\"colab-df-container\">\n",
              "      <div>\n",
              "<style scoped>\n",
              "    .dataframe tbody tr th:only-of-type {\n",
              "        vertical-align: middle;\n",
              "    }\n",
              "\n",
              "    .dataframe tbody tr th {\n",
              "        vertical-align: top;\n",
              "    }\n",
              "\n",
              "    .dataframe thead th {\n",
              "        text-align: right;\n",
              "    }\n",
              "</style>\n",
              "<table border=\"1\" class=\"dataframe\">\n",
              "  <thead>\n",
              "    <tr style=\"text-align: right;\">\n",
              "      <th></th>\n",
              "      <th>mean_fit_time</th>\n",
              "      <th>std_fit_time</th>\n",
              "      <th>mean_score_time</th>\n",
              "      <th>std_score_time</th>\n",
              "      <th>param_splitter</th>\n",
              "      <th>param_min_samples_split</th>\n",
              "      <th>param_min_samples_leaf</th>\n",
              "      <th>param_max_leaf_nodes</th>\n",
              "      <th>param_max_features</th>\n",
              "      <th>param_max_depth</th>\n",
              "      <th>params</th>\n",
              "      <th>split0_test_score</th>\n",
              "      <th>split1_test_score</th>\n",
              "      <th>split2_test_score</th>\n",
              "      <th>split3_test_score</th>\n",
              "      <th>split4_test_score</th>\n",
              "      <th>mean_test_score</th>\n",
              "      <th>std_test_score</th>\n",
              "      <th>rank_test_score</th>\n",
              "    </tr>\n",
              "  </thead>\n",
              "  <tbody>\n",
              "    <tr>\n",
              "      <th>11</th>\n",
              "      <td>0.221211</td>\n",
              "      <td>0.025997</td>\n",
              "      <td>0.011259</td>\n",
              "      <td>0.000175</td>\n",
              "      <td>best</td>\n",
              "      <td>20</td>\n",
              "      <td>0.01</td>\n",
              "      <td>55</td>\n",
              "      <td>0.95</td>\n",
              "      <td>9</td>\n",
              "      <td>{'splitter': 'best', 'min_samples_split': 20, ...</td>\n",
              "      <td>0.827984</td>\n",
              "      <td>0.846479</td>\n",
              "      <td>0.848130</td>\n",
              "      <td>0.842967</td>\n",
              "      <td>0.836687</td>\n",
              "      <td>0.840449</td>\n",
              "      <td>0.007365</td>\n",
              "      <td>1</td>\n",
              "    </tr>\n",
              "    <tr>\n",
              "      <th>3</th>\n",
              "      <td>0.214193</td>\n",
              "      <td>0.014781</td>\n",
              "      <td>0.010959</td>\n",
              "      <td>0.000242</td>\n",
              "      <td>best</td>\n",
              "      <td>2</td>\n",
              "      <td>0.01</td>\n",
              "      <td>50</td>\n",
              "      <td>0.95</td>\n",
              "      <td>9</td>\n",
              "      <td>{'splitter': 'best', 'min_samples_split': 2, '...</td>\n",
              "      <td>0.827933</td>\n",
              "      <td>0.846479</td>\n",
              "      <td>0.848076</td>\n",
              "      <td>0.843034</td>\n",
              "      <td>0.836687</td>\n",
              "      <td>0.840442</td>\n",
              "      <td>0.007376</td>\n",
              "      <td>2</td>\n",
              "    </tr>\n",
              "    <tr>\n",
              "      <th>5</th>\n",
              "      <td>0.209856</td>\n",
              "      <td>0.011217</td>\n",
              "      <td>0.011287</td>\n",
              "      <td>0.000652</td>\n",
              "      <td>best</td>\n",
              "      <td>6</td>\n",
              "      <td>0.01</td>\n",
              "      <td>60</td>\n",
              "      <td>0.85</td>\n",
              "      <td>9</td>\n",
              "      <td>{'splitter': 'best', 'min_samples_split': 6, '...</td>\n",
              "      <td>0.827215</td>\n",
              "      <td>0.846479</td>\n",
              "      <td>0.848130</td>\n",
              "      <td>0.842967</td>\n",
              "      <td>0.836687</td>\n",
              "      <td>0.840296</td>\n",
              "      <td>0.007627</td>\n",
              "      <td>3</td>\n",
              "    </tr>\n",
              "    <tr>\n",
              "      <th>94</th>\n",
              "      <td>0.106063</td>\n",
              "      <td>0.014628</td>\n",
              "      <td>0.010620</td>\n",
              "      <td>0.000641</td>\n",
              "      <td>best</td>\n",
              "      <td>20</td>\n",
              "      <td>0.01</td>\n",
              "      <td>55</td>\n",
              "      <td>auto</td>\n",
              "      <td>8</td>\n",
              "      <td>{'splitter': 'best', 'min_samples_split': 20, ...</td>\n",
              "      <td>0.827163</td>\n",
              "      <td>0.841744</td>\n",
              "      <td>0.841960</td>\n",
              "      <td>0.842723</td>\n",
              "      <td>0.824800</td>\n",
              "      <td>0.835678</td>\n",
              "      <td>0.007959</td>\n",
              "      <td>4</td>\n",
              "    </tr>\n",
              "    <tr>\n",
              "      <th>60</th>\n",
              "      <td>0.192752</td>\n",
              "      <td>0.028142</td>\n",
              "      <td>0.011941</td>\n",
              "      <td>0.003005</td>\n",
              "      <td>best</td>\n",
              "      <td>18</td>\n",
              "      <td>0.02</td>\n",
              "      <td>30</td>\n",
              "      <td>0.95</td>\n",
              "      <td>7</td>\n",
              "      <td>{'splitter': 'best', 'min_samples_split': 18, ...</td>\n",
              "      <td>0.823386</td>\n",
              "      <td>0.835277</td>\n",
              "      <td>0.841752</td>\n",
              "      <td>0.833423</td>\n",
              "      <td>0.828420</td>\n",
              "      <td>0.832452</td>\n",
              "      <td>0.006227</td>\n",
              "      <td>5</td>\n",
              "    </tr>\n",
              "  </tbody>\n",
              "</table>\n",
              "</div>\n",
              "      <button class=\"colab-df-convert\" onclick=\"convertToInteractive('df-61ac52df-cd29-499a-8007-848027e05cc7')\"\n",
              "              title=\"Convert this dataframe to an interactive table.\"\n",
              "              style=\"display:none;\">\n",
              "        \n",
              "  <svg xmlns=\"http://www.w3.org/2000/svg\" height=\"24px\"viewBox=\"0 0 24 24\"\n",
              "       width=\"24px\">\n",
              "    <path d=\"M0 0h24v24H0V0z\" fill=\"none\"/>\n",
              "    <path d=\"M18.56 5.44l.94 2.06.94-2.06 2.06-.94-2.06-.94-.94-2.06-.94 2.06-2.06.94zm-11 1L8.5 8.5l.94-2.06 2.06-.94-2.06-.94L8.5 2.5l-.94 2.06-2.06.94zm10 10l.94 2.06.94-2.06 2.06-.94-2.06-.94-.94-2.06-.94 2.06-2.06.94z\"/><path d=\"M17.41 7.96l-1.37-1.37c-.4-.4-.92-.59-1.43-.59-.52 0-1.04.2-1.43.59L10.3 9.45l-7.72 7.72c-.78.78-.78 2.05 0 2.83L4 21.41c.39.39.9.59 1.41.59.51 0 1.02-.2 1.41-.59l7.78-7.78 2.81-2.81c.8-.78.8-2.07 0-2.86zM5.41 20L4 18.59l7.72-7.72 1.47 1.35L5.41 20z\"/>\n",
              "  </svg>\n",
              "      </button>\n",
              "      \n",
              "  <style>\n",
              "    .colab-df-container {\n",
              "      display:flex;\n",
              "      flex-wrap:wrap;\n",
              "      gap: 12px;\n",
              "    }\n",
              "\n",
              "    .colab-df-convert {\n",
              "      background-color: #E8F0FE;\n",
              "      border: none;\n",
              "      border-radius: 50%;\n",
              "      cursor: pointer;\n",
              "      display: none;\n",
              "      fill: #1967D2;\n",
              "      height: 32px;\n",
              "      padding: 0 0 0 0;\n",
              "      width: 32px;\n",
              "    }\n",
              "\n",
              "    .colab-df-convert:hover {\n",
              "      background-color: #E2EBFA;\n",
              "      box-shadow: 0px 1px 2px rgba(60, 64, 67, 0.3), 0px 1px 3px 1px rgba(60, 64, 67, 0.15);\n",
              "      fill: #174EA6;\n",
              "    }\n",
              "\n",
              "    [theme=dark] .colab-df-convert {\n",
              "      background-color: #3B4455;\n",
              "      fill: #D2E3FC;\n",
              "    }\n",
              "\n",
              "    [theme=dark] .colab-df-convert:hover {\n",
              "      background-color: #434B5C;\n",
              "      box-shadow: 0px 1px 3px 1px rgba(0, 0, 0, 0.15);\n",
              "      filter: drop-shadow(0px 1px 2px rgba(0, 0, 0, 0.3));\n",
              "      fill: #FFFFFF;\n",
              "    }\n",
              "  </style>\n",
              "\n",
              "      <script>\n",
              "        const buttonEl =\n",
              "          document.querySelector('#df-61ac52df-cd29-499a-8007-848027e05cc7 button.colab-df-convert');\n",
              "        buttonEl.style.display =\n",
              "          google.colab.kernel.accessAllowed ? 'block' : 'none';\n",
              "\n",
              "        async function convertToInteractive(key) {\n",
              "          const element = document.querySelector('#df-61ac52df-cd29-499a-8007-848027e05cc7');\n",
              "          const dataTable =\n",
              "            await google.colab.kernel.invokeFunction('convertToInteractive',\n",
              "                                                     [key], {});\n",
              "          if (!dataTable) return;\n",
              "\n",
              "          const docLinkHtml = 'Like what you see? Visit the ' +\n",
              "            '<a target=\"_blank\" href=https://colab.research.google.com/notebooks/data_table.ipynb>data table notebook</a>'\n",
              "            + ' to learn more about interactive tables.';\n",
              "          element.innerHTML = '';\n",
              "          dataTable['output_type'] = 'display_data';\n",
              "          await google.colab.output.renderOutput(dataTable, element);\n",
              "          const docLink = document.createElement('div');\n",
              "          docLink.innerHTML = docLinkHtml;\n",
              "          element.appendChild(docLink);\n",
              "        }\n",
              "      </script>\n",
              "    </div>\n",
              "  </div>\n",
              "  "
            ]
          },
          "metadata": {},
          "execution_count": 52
        }
      ]
    },
    {
      "cell_type": "code",
      "source": [
        "best_model.fit(X_train, y_train)\n",
        "roc_auc_score(y_test, best_model.predict(X_test))"
      ],
      "metadata": {
        "colab": {
          "base_uri": "https://localhost:8080/"
        },
        "id": "t1Y7gq8b731D",
        "outputId": "639fce14-521c-428e-933e-7b66243a953e"
      },
      "execution_count": 63,
      "outputs": [
        {
          "output_type": "execute_result",
          "data": {
            "text/plain": [
              "0.582297887174087"
            ]
          },
          "metadata": {},
          "execution_count": 63
        }
      ]
    },
    {
      "cell_type": "code",
      "source": [
        "tree = DecisionTreeClassifier(max_depth=9, max_features=0.95, max_leaf_nodes=55,\n",
        "                       min_samples_leaf=0.01, min_samples_split=20,\n",
        "                       random_state=0)\n",
        "tree.fit(X_train_scaled, y_train)\n",
        "\n",
        "pred_train6 = tree.predict(X_train_scaled)\n",
        "pred_test6 = tree.predict(X_test_scaled2)\n",
        "\n",
        "pred_train_proba6 = tree.predict_proba(X_train_scaled)[:, 1]\n",
        "pred_test_proba6 = tree.predict_proba(X_test_scaled2)[:, 1]"
      ],
      "metadata": {
        "id": "Z-oB9ft-733b"
      },
      "execution_count": 67,
      "outputs": []
    },
    {
      "cell_type": "code",
      "source": [
        "roc_auc_score(y_test, tree.predict(X_test_scaled2))"
      ],
      "metadata": {
        "colab": {
          "base_uri": "https://localhost:8080/"
        },
        "id": "yUC5ji7y_Vu8",
        "outputId": "af940509-f024-4080-b7a1-5b5d311d269c"
      },
      "execution_count": 68,
      "outputs": [
        {
          "output_type": "execute_result",
          "data": {
            "text/plain": [
              "0.582297887174087"
            ]
          },
          "metadata": {},
          "execution_count": 68
        }
      ]
    },
    {
      "cell_type": "code",
      "source": [
        "X_train.shape,y_train.shape,y_test.shape,X_test.shape"
      ],
      "metadata": {
        "colab": {
          "base_uri": "https://localhost:8080/"
        },
        "id": "dQ-1wqGwAVZq",
        "outputId": "dcdb8b3b-b7ea-41df-a3a9-ac0d08ad96c4"
      },
      "execution_count": 70,
      "outputs": [
        {
          "output_type": "execute_result",
          "data": {
            "text/plain": [
              "((96215, 10), (96215,), (24054,), (24054, 10))"
            ]
          },
          "metadata": {},
          "execution_count": 70
        }
      ]
    },
    {
      "cell_type": "code",
      "source": [
        "from xgboost import XGBClassifier\n",
        "\n",
        "xgb = XGBClassifier(n_estimators=1000, learning_rate=0.01, max_depth=1, random_state=0)\n",
        "xgb.fit(X_train_scaled, y_train)\n",
        "pred_train = xgb.predict(X_train_scaled)\n",
        "pred_test = xgb.predict(X_test)\n",
        "\n",
        "roc_auc_score(y_test, tree.predict(X_test))"
      ],
      "metadata": {
        "colab": {
          "base_uri": "https://localhost:8080/",
          "height": 507
        },
        "id": "hDLXQV9s_vJd",
        "outputId": "554c2234-0d42-4a41-e778-5afcf056aa65"
      },
      "execution_count": 72,
      "outputs": [
        {
          "output_type": "error",
          "ename": "ValueError",
          "evalue": "ignored",
          "traceback": [
            "\u001b[0;31m---------------------------------------------------------------------------\u001b[0m",
            "\u001b[0;31mValueError\u001b[0m                                Traceback (most recent call last)",
            "\u001b[0;32m<ipython-input-72-abdcf069aa93>\u001b[0m in \u001b[0;36m<module>\u001b[0;34m\u001b[0m\n\u001b[1;32m      4\u001b[0m \u001b[0mxgb\u001b[0m\u001b[0;34m.\u001b[0m\u001b[0mfit\u001b[0m\u001b[0;34m(\u001b[0m\u001b[0mX_train_scaled\u001b[0m\u001b[0;34m,\u001b[0m \u001b[0my_train\u001b[0m\u001b[0;34m)\u001b[0m\u001b[0;34m\u001b[0m\u001b[0;34m\u001b[0m\u001b[0m\n\u001b[1;32m      5\u001b[0m \u001b[0mpred_train\u001b[0m \u001b[0;34m=\u001b[0m \u001b[0mxgb\u001b[0m\u001b[0;34m.\u001b[0m\u001b[0mpredict\u001b[0m\u001b[0;34m(\u001b[0m\u001b[0mX_train_scaled\u001b[0m\u001b[0;34m)\u001b[0m\u001b[0;34m\u001b[0m\u001b[0;34m\u001b[0m\u001b[0m\n\u001b[0;32m----> 6\u001b[0;31m \u001b[0mpred_test\u001b[0m \u001b[0;34m=\u001b[0m \u001b[0mxgb\u001b[0m\u001b[0;34m.\u001b[0m\u001b[0mpredict\u001b[0m\u001b[0;34m(\u001b[0m\u001b[0mX_test\u001b[0m\u001b[0;34m)\u001b[0m\u001b[0;34m\u001b[0m\u001b[0;34m\u001b[0m\u001b[0m\n\u001b[0m\u001b[1;32m      7\u001b[0m \u001b[0;34m\u001b[0m\u001b[0m\n\u001b[1;32m      8\u001b[0m \u001b[0mroc_auc_score\u001b[0m\u001b[0;34m(\u001b[0m\u001b[0my_test\u001b[0m\u001b[0;34m,\u001b[0m \u001b[0mtree\u001b[0m\u001b[0;34m.\u001b[0m\u001b[0mpredict\u001b[0m\u001b[0;34m(\u001b[0m\u001b[0mX_test\u001b[0m\u001b[0;34m)\u001b[0m\u001b[0;34m)\u001b[0m\u001b[0;34m\u001b[0m\u001b[0;34m\u001b[0m\u001b[0m\n",
            "\u001b[0;32m/usr/local/lib/python3.7/dist-packages/xgboost/sklearn.py\u001b[0m in \u001b[0;36mpredict\u001b[0;34m(self, data, output_margin, ntree_limit, validate_features)\u001b[0m\n\u001b[1;32m    789\u001b[0m                                                  \u001b[0moutput_margin\u001b[0m\u001b[0;34m=\u001b[0m\u001b[0moutput_margin\u001b[0m\u001b[0;34m,\u001b[0m\u001b[0;34m\u001b[0m\u001b[0;34m\u001b[0m\u001b[0m\n\u001b[1;32m    790\u001b[0m                                                  \u001b[0mntree_limit\u001b[0m\u001b[0;34m=\u001b[0m\u001b[0mntree_limit\u001b[0m\u001b[0;34m,\u001b[0m\u001b[0;34m\u001b[0m\u001b[0;34m\u001b[0m\u001b[0m\n\u001b[0;32m--> 791\u001b[0;31m                                                  validate_features=validate_features)\n\u001b[0m\u001b[1;32m    792\u001b[0m         \u001b[0;32mif\u001b[0m \u001b[0moutput_margin\u001b[0m\u001b[0;34m:\u001b[0m\u001b[0;34m\u001b[0m\u001b[0;34m\u001b[0m\u001b[0m\n\u001b[1;32m    793\u001b[0m             \u001b[0;31m# If output_margin is active, simply return the scores\u001b[0m\u001b[0;34m\u001b[0m\u001b[0;34m\u001b[0m\u001b[0;34m\u001b[0m\u001b[0m\n",
            "\u001b[0;32m/usr/local/lib/python3.7/dist-packages/xgboost/core.py\u001b[0m in \u001b[0;36mpredict\u001b[0;34m(self, data, output_margin, ntree_limit, pred_leaf, pred_contribs, approx_contribs, pred_interactions, validate_features)\u001b[0m\n\u001b[1;32m   1282\u001b[0m \u001b[0;34m\u001b[0m\u001b[0m\n\u001b[1;32m   1283\u001b[0m         \u001b[0;32mif\u001b[0m \u001b[0mvalidate_features\u001b[0m\u001b[0;34m:\u001b[0m\u001b[0;34m\u001b[0m\u001b[0;34m\u001b[0m\u001b[0m\n\u001b[0;32m-> 1284\u001b[0;31m             \u001b[0mself\u001b[0m\u001b[0;34m.\u001b[0m\u001b[0m_validate_features\u001b[0m\u001b[0;34m(\u001b[0m\u001b[0mdata\u001b[0m\u001b[0;34m)\u001b[0m\u001b[0;34m\u001b[0m\u001b[0;34m\u001b[0m\u001b[0m\n\u001b[0m\u001b[1;32m   1285\u001b[0m \u001b[0;34m\u001b[0m\u001b[0m\n\u001b[1;32m   1286\u001b[0m         \u001b[0mlength\u001b[0m \u001b[0;34m=\u001b[0m \u001b[0mc_bst_ulong\u001b[0m\u001b[0;34m(\u001b[0m\u001b[0;34m)\u001b[0m\u001b[0;34m\u001b[0m\u001b[0;34m\u001b[0m\u001b[0m\n",
            "\u001b[0;32m/usr/local/lib/python3.7/dist-packages/xgboost/core.py\u001b[0m in \u001b[0;36m_validate_features\u001b[0;34m(self, data)\u001b[0m\n\u001b[1;32m   1688\u001b[0m \u001b[0;34m\u001b[0m\u001b[0m\n\u001b[1;32m   1689\u001b[0m                 raise ValueError(msg.format(self.feature_names,\n\u001b[0;32m-> 1690\u001b[0;31m                                             data.feature_names))\n\u001b[0m\u001b[1;32m   1691\u001b[0m \u001b[0;34m\u001b[0m\u001b[0m\n\u001b[1;32m   1692\u001b[0m     \u001b[0;32mdef\u001b[0m \u001b[0mget_split_value_histogram\u001b[0m\u001b[0;34m(\u001b[0m\u001b[0mself\u001b[0m\u001b[0;34m,\u001b[0m \u001b[0mfeature\u001b[0m\u001b[0;34m,\u001b[0m \u001b[0mfmap\u001b[0m\u001b[0;34m=\u001b[0m\u001b[0;34m''\u001b[0m\u001b[0;34m,\u001b[0m \u001b[0mbins\u001b[0m\u001b[0;34m=\u001b[0m\u001b[0;32mNone\u001b[0m\u001b[0;34m,\u001b[0m \u001b[0mas_pandas\u001b[0m\u001b[0;34m=\u001b[0m\u001b[0;32mTrue\u001b[0m\u001b[0;34m)\u001b[0m\u001b[0;34m:\u001b[0m\u001b[0;34m\u001b[0m\u001b[0;34m\u001b[0m\u001b[0m\n",
            "\u001b[0;31mValueError\u001b[0m: feature_names mismatch: ['f0', 'f1', 'f2', 'f3', 'f4', 'f5'] ['RevolvingUtilizationOfUnsecuredLines', 'age', 'NumberOfTime30-59DaysPastDueNotWorse', 'DebtRatio', 'MonthlyIncome', 'NumberOfOpenCreditLinesAndLoans', 'NumberOfTimes90DaysLate', 'NumberRealEstateLoansOrLines', 'NumberOfTime60-89DaysPastDueNotWorse', 'NumberOfDependents']\nexpected f1, f2, f5, f4, f0, f3 in input data\ntraining data did not have the following fields: DebtRatio, NumberRealEstateLoansOrLines, NumberOfDependents, age, NumberOfTimes90DaysLate, RevolvingUtilizationOfUnsecuredLines, NumberOfOpenCreditLinesAndLoans, NumberOfTime30-59DaysPastDueNotWorse, NumberOfTime60-89DaysPastDueNotWorse, MonthlyIncome"
          ]
        }
      ]
    },
    {
      "cell_type": "code",
      "source": [],
      "metadata": {
        "id": "_PNwLErV_vMG"
      },
      "execution_count": null,
      "outputs": []
    },
    {
      "cell_type": "code",
      "source": [],
      "metadata": {
        "id": "05OHiKEL_vP1"
      },
      "execution_count": null,
      "outputs": []
    },
    {
      "cell_type": "code",
      "source": [],
      "metadata": {
        "id": "SYbawMt__vgR"
      },
      "execution_count": null,
      "outputs": []
    },
    {
      "cell_type": "code",
      "source": [],
      "metadata": {
        "id": "DzdkbObK_vno"
      },
      "execution_count": null,
      "outputs": []
    },
    {
      "cell_type": "code",
      "source": [],
      "metadata": {
        "id": "p4V_Zn1W_vux"
      },
      "execution_count": null,
      "outputs": []
    }
  ]
}
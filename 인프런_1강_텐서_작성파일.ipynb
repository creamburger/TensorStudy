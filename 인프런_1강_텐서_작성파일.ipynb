{
  "nbformat": 4,
  "nbformat_minor": 0,
  "metadata": {
    "colab": {
      "name": "1강 텐서.ipynb",
      "provenance": [],
      "collapsed_sections": [],
      "authorship_tag": "ABX9TyMnUCDvb37IMrVnJFcfY1Iw",
      "include_colab_link": true
    },
    "kernelspec": {
      "name": "python3",
      "display_name": "Python 3"
    },
    "language_info": {
      "name": "python"
    }
  },
  "cells": [
    {
      "cell_type": "markdown",
      "metadata": {
        "id": "view-in-github",
        "colab_type": "text"
      },
      "source": [
        "<a href=\"https://colab.research.google.com/github/creamburger/TensorStudy/blob/main/%EC%9D%B8%ED%94%84%EB%9F%B0_1%EA%B0%95_%ED%85%90%EC%84%9C_%EC%9E%91%EC%84%B1%ED%8C%8C%EC%9D%BC.ipynb\" target=\"_parent\"><img src=\"https://colab.research.google.com/assets/colab-badge.svg\" alt=\"Open In Colab\"/></a>"
      ]
    },
    {
      "cell_type": "code",
      "execution_count": 2,
      "metadata": {
        "id": "INNFVLHRDo7Q"
      },
      "outputs": [],
      "source": [
        "import tensorflow as tf"
      ]
    },
    {
      "cell_type": "code",
      "source": [
        "mammal = tf.Variable(\"코끼리\", tf.string) #변수이름=tf.Varialbe(\"값\", tf.자료형)\n",
        "ignition = tf.Variable(451, tf.int16)\n",
        "floating = tf.Variable(3.14159265359, tf.float64)\n",
        "its_complicated = tf.Variable(12.3 - 4.85j, tf.complex64)"
      ],
      "metadata": {
        "id": "7eehEhUQEKND"
      },
      "execution_count": 7,
      "outputs": []
    },
    {
      "cell_type": "code",
      "source": [
        "mystr = tf.Variable([\"나현이는바보\"], tf.string) #리스트형도 가능\n",
        "cool_numbers = tf.Variable([3.14159, 2.71828], tf.float32)\n",
        "first_primes = tf.Variable([2, 3, 5, 7, 11], tf.int32)\n",
        "its_very_complicated = tf.Variable([12.3 - 4.85j, 7.5 - 6.23j], tf.complex64)"
      ],
      "metadata": {
        "id": "vyubRagaF_NX"
      },
      "execution_count": 10,
      "outputs": []
    },
    {
      "cell_type": "code",
      "source": [
        ""
      ],
      "metadata": {
        "id": "DbXtM0yQpzku"
      },
      "execution_count": null,
      "outputs": []
    },
    {
      "cell_type": "code",
      "source": [
        "cool_numbers"
      ],
      "metadata": {
        "colab": {
          "base_uri": "https://localhost:8080/"
        },
        "id": "1qLSJk69GCSc",
        "outputId": "29d57eba-0317-4233-faf4-9cdff2091c51"
      },
      "execution_count": 11,
      "outputs": [
        {
          "output_type": "execute_result",
          "data": {
            "text/plain": [
              "<tf.Variable 'Variable:0' shape=(2,) dtype=float32, numpy=array([3.14159, 2.71828], dtype=float32)>"
            ]
          },
          "metadata": {},
          "execution_count": 11
        }
      ]
    },
    {
      "cell_type": "code",
      "source": [
        "mymat = tf.Variable([[7],[11]], tf.int16)\n",
        "myxor = tf.Variable([[False, True],[True, False]], tf.bool)\n",
        "linear_squares = tf.Variable([[4], [9], [16], [25]], tf.int32)\n",
        "squarish_squares = tf.Variable([ [4, 9], [16, 25] ], tf.int32)\n",
        "rank_of_squares = tf.rank(squarish_squares)\n",
        "mymatc = tf.Variable([[7],[11]], tf.int32)  "
      ],
      "metadata": {
        "id": "J-8lLysPHgXD"
      },
      "execution_count": 13,
      "outputs": []
    },
    {
      "cell_type": "code",
      "source": [
        "my_image = tf.Variable([10,299,299,3])"
      ],
      "metadata": {
        "id": "iYTwDqHhm3CI"
      },
      "execution_count": 4,
      "outputs": []
    },
    {
      "cell_type": "code",
      "source": [
        "my_image"
      ],
      "metadata": {
        "colab": {
          "base_uri": "https://localhost:8080/"
        },
        "id": "vmb9ReEdozOI",
        "outputId": "6bbb9ba4-c6cd-4f33-fbd2-fe3d08a0c55b"
      },
      "execution_count": 5,
      "outputs": [
        {
          "output_type": "execute_result",
          "data": {
            "text/plain": [
              "<tf.Variable 'Variable:0' shape=(4,) dtype=int32, numpy=array([ 10, 299, 299,   3], dtype=int32)>"
            ]
          },
          "metadata": {},
          "execution_count": 5
        }
      ]
    },
    {
      "cell_type": "code",
      "source": [
        "r=tf.rank(my_image) #객체 랭크 구하기"
      ],
      "metadata": {
        "id": "YgxN2I3Bo68Z"
      },
      "execution_count": 6,
      "outputs": []
    },
    {
      "cell_type": "code",
      "source": [
        "r"
      ],
      "metadata": {
        "colab": {
          "base_uri": "https://localhost:8080/"
        },
        "id": "_vM_ZfQoo_8s",
        "outputId": "5c452210-908f-4bd2-d1b1-8a68e8e2be18"
      },
      "execution_count": 7,
      "outputs": [
        {
          "output_type": "execute_result",
          "data": {
            "text/plain": [
              "<tf.Tensor: shape=(), dtype=int32, numpy=1>"
            ]
          },
          "metadata": {},
          "execution_count": 7
        }
      ]
    },
    {
      "cell_type": "code",
      "source": [
        "my_matrix = tf.Variable([[1,2,3,4],[2,3,4,5],[3,4,5,6],[4,5,6,7]],tf.int16)\n",
        "my_scalar = my_matrix[2] # 0부터 시작하므로 각각의 세 번째 숫자인 3,4,5,6이 출력된다"
      ],
      "metadata": {
        "id": "H1RICT1lp1Jg"
      },
      "execution_count": 9,
      "outputs": []
    },
    {
      "cell_type": "code",
      "source": [
        "my_sclalr = my_matrix[1,2] #행렬을 조회하는 방법! 2번째 행의 3번째 열\n",
        "my_sclalr"
      ],
      "metadata": {
        "colab": {
          "base_uri": "https://localhost:8080/"
        },
        "id": "yDJetQYAqPWo",
        "outputId": "6a521124-a22d-4c2a-89a4-2297aecc17ef"
      },
      "execution_count": 11,
      "outputs": [
        {
          "output_type": "execute_result",
          "data": {
            "text/plain": [
              "<tf.Tensor: shape=(), dtype=int32, numpy=4>"
            ]
          },
          "metadata": {},
          "execution_count": 11
        }
      ]
    },
    {
      "cell_type": "code",
      "source": [
        "my_row_vector = my_matrix[2] #행벡터를 그대로 잡음 3번째 행 조회\n",
        "my_column_vector = my_matrix[:,3] #':'표시는 앞의 부분 전체를 잡는다는 의미. (*의 의미인걸까?) 4번째 열 조회"
      ],
      "metadata": {
        "id": "5lI84BPnqtVM"
      },
      "execution_count": 12,
      "outputs": []
    },
    {
      "cell_type": "code",
      "source": [
        "#텐서변경 예시:\n",
        "rank_three_tensor = tf.ones([3, 4, 5])\n",
        "matrix = tf.reshape(rank_three_tensor, [6, 10]) # 기존 행렬을 6*10행렬로 변경\n",
        "# 형태 변경\n",
        "matrixB = tf.reshape(matrix,[3, -1]) # 기존 내 용 을 3×20 행 렬 로 형태 변경\n",
        "# -1 은 차원 크 기 를 계 산 하 여\n",
        "# 자 동 으로 결 정 하라는 의미\n",
        "matrixAlt = tf.reshape(matrixB, [4, 3, -1]) # 기존 내용을 4x3x5 텐서로\n",
        "# 형태 변경\n",
        "\n",
        "# 형 태 가 변경된 텐 서 의 원소 개 수 는\n",
        "# 원래 텐 서 의 원소 개 수 와 같습니다.\n",
        "# 그러므로 다 음 은 원소 개 수 를 유 지 하면서\n",
        "# 마지막 차 원 에 사용 가능한 수가 없기 때문에 에 러 를 발 생 합니다.\n",
        "#yet_another = tf.reshape(matrixAlt, [13, 2,-1]) # 에러!"
      ],
      "metadata": {
        "id": "8kfASazfrAvB"
      },
      "execution_count": 14,
      "outputs": []
    }
  ]
}
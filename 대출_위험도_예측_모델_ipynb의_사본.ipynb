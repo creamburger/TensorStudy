{
  "nbformat": 4,
  "nbformat_minor": 0,
  "metadata": {
    "colab": {
      "provenance": [],
      "collapsed_sections": [],
      "authorship_tag": "ABX9TyOXqALYP88eY2mc9GqGxPWj",
      "include_colab_link": true
    },
    "kernelspec": {
      "name": "python3",
      "display_name": "Python 3"
    },
    "language_info": {
      "name": "python"
    },
    "accelerator": "GPU"
  },
  "cells": [
    {
      "cell_type": "markdown",
      "metadata": {
        "id": "view-in-github",
        "colab_type": "text"
      },
      "source": [
        "<a href=\"https://colab.research.google.com/github/creamburger/TensorStudy/blob/main/%EB%8C%80%EC%B6%9C_%EC%9C%84%ED%97%98%EB%8F%84_%EC%98%88%EC%B8%A1_%EB%AA%A8%EB%8D%B8_ipynb%EC%9D%98_%EC%82%AC%EB%B3%B8.ipynb\" target=\"_parent\"><img src=\"https://colab.research.google.com/assets/colab-badge.svg\" alt=\"Open In Colab\"/></a>"
      ]
    },
    {
      "cell_type": "code",
      "source": [
        "# GPU를 사용하기 위해 google colab 사용해서 file import.\n",
        "\n",
        "from google.colab import files\n",
        "myfile = files.upload()"
      ],
      "metadata": {
        "colab": {
          "base_uri": "https://localhost:8080/",
          "height": 76
        },
        "id": "EX81Kxykviyw",
        "outputId": "a691e3d2-54ee-45c4-c939-41d68ba4f9ba"
      },
      "execution_count": 2,
      "outputs": [
        {
          "output_type": "display_data",
          "data": {
            "text/plain": [
              "<IPython.core.display.HTML object>"
            ],
            "text/html": [
              "\n",
              "     <input type=\"file\" id=\"files-a790f4f7-6e58-4928-9bb5-278f9325c4f1\" name=\"files[]\" multiple disabled\n",
              "        style=\"border:none\" />\n",
              "     <output id=\"result-a790f4f7-6e58-4928-9bb5-278f9325c4f1\">\n",
              "      Upload widget is only available when the cell has been executed in the\n",
              "      current browser session. Please rerun this cell to enable.\n",
              "      </output>\n",
              "      <script>// Copyright 2017 Google LLC\n",
              "//\n",
              "// Licensed under the Apache License, Version 2.0 (the \"License\");\n",
              "// you may not use this file except in compliance with the License.\n",
              "// You may obtain a copy of the License at\n",
              "//\n",
              "//      http://www.apache.org/licenses/LICENSE-2.0\n",
              "//\n",
              "// Unless required by applicable law or agreed to in writing, software\n",
              "// distributed under the License is distributed on an \"AS IS\" BASIS,\n",
              "// WITHOUT WARRANTIES OR CONDITIONS OF ANY KIND, either express or implied.\n",
              "// See the License for the specific language governing permissions and\n",
              "// limitations under the License.\n",
              "\n",
              "/**\n",
              " * @fileoverview Helpers for google.colab Python module.\n",
              " */\n",
              "(function(scope) {\n",
              "function span(text, styleAttributes = {}) {\n",
              "  const element = document.createElement('span');\n",
              "  element.textContent = text;\n",
              "  for (const key of Object.keys(styleAttributes)) {\n",
              "    element.style[key] = styleAttributes[key];\n",
              "  }\n",
              "  return element;\n",
              "}\n",
              "\n",
              "// Max number of bytes which will be uploaded at a time.\n",
              "const MAX_PAYLOAD_SIZE = 100 * 1024;\n",
              "\n",
              "function _uploadFiles(inputId, outputId) {\n",
              "  const steps = uploadFilesStep(inputId, outputId);\n",
              "  const outputElement = document.getElementById(outputId);\n",
              "  // Cache steps on the outputElement to make it available for the next call\n",
              "  // to uploadFilesContinue from Python.\n",
              "  outputElement.steps = steps;\n",
              "\n",
              "  return _uploadFilesContinue(outputId);\n",
              "}\n",
              "\n",
              "// This is roughly an async generator (not supported in the browser yet),\n",
              "// where there are multiple asynchronous steps and the Python side is going\n",
              "// to poll for completion of each step.\n",
              "// This uses a Promise to block the python side on completion of each step,\n",
              "// then passes the result of the previous step as the input to the next step.\n",
              "function _uploadFilesContinue(outputId) {\n",
              "  const outputElement = document.getElementById(outputId);\n",
              "  const steps = outputElement.steps;\n",
              "\n",
              "  const next = steps.next(outputElement.lastPromiseValue);\n",
              "  return Promise.resolve(next.value.promise).then((value) => {\n",
              "    // Cache the last promise value to make it available to the next\n",
              "    // step of the generator.\n",
              "    outputElement.lastPromiseValue = value;\n",
              "    return next.value.response;\n",
              "  });\n",
              "}\n",
              "\n",
              "/**\n",
              " * Generator function which is called between each async step of the upload\n",
              " * process.\n",
              " * @param {string} inputId Element ID of the input file picker element.\n",
              " * @param {string} outputId Element ID of the output display.\n",
              " * @return {!Iterable<!Object>} Iterable of next steps.\n",
              " */\n",
              "function* uploadFilesStep(inputId, outputId) {\n",
              "  const inputElement = document.getElementById(inputId);\n",
              "  inputElement.disabled = false;\n",
              "\n",
              "  const outputElement = document.getElementById(outputId);\n",
              "  outputElement.innerHTML = '';\n",
              "\n",
              "  const pickedPromise = new Promise((resolve) => {\n",
              "    inputElement.addEventListener('change', (e) => {\n",
              "      resolve(e.target.files);\n",
              "    });\n",
              "  });\n",
              "\n",
              "  const cancel = document.createElement('button');\n",
              "  inputElement.parentElement.appendChild(cancel);\n",
              "  cancel.textContent = 'Cancel upload';\n",
              "  const cancelPromise = new Promise((resolve) => {\n",
              "    cancel.onclick = () => {\n",
              "      resolve(null);\n",
              "    };\n",
              "  });\n",
              "\n",
              "  // Wait for the user to pick the files.\n",
              "  const files = yield {\n",
              "    promise: Promise.race([pickedPromise, cancelPromise]),\n",
              "    response: {\n",
              "      action: 'starting',\n",
              "    }\n",
              "  };\n",
              "\n",
              "  cancel.remove();\n",
              "\n",
              "  // Disable the input element since further picks are not allowed.\n",
              "  inputElement.disabled = true;\n",
              "\n",
              "  if (!files) {\n",
              "    return {\n",
              "      response: {\n",
              "        action: 'complete',\n",
              "      }\n",
              "    };\n",
              "  }\n",
              "\n",
              "  for (const file of files) {\n",
              "    const li = document.createElement('li');\n",
              "    li.append(span(file.name, {fontWeight: 'bold'}));\n",
              "    li.append(span(\n",
              "        `(${file.type || 'n/a'}) - ${file.size} bytes, ` +\n",
              "        `last modified: ${\n",
              "            file.lastModifiedDate ? file.lastModifiedDate.toLocaleDateString() :\n",
              "                                    'n/a'} - `));\n",
              "    const percent = span('0% done');\n",
              "    li.appendChild(percent);\n",
              "\n",
              "    outputElement.appendChild(li);\n",
              "\n",
              "    const fileDataPromise = new Promise((resolve) => {\n",
              "      const reader = new FileReader();\n",
              "      reader.onload = (e) => {\n",
              "        resolve(e.target.result);\n",
              "      };\n",
              "      reader.readAsArrayBuffer(file);\n",
              "    });\n",
              "    // Wait for the data to be ready.\n",
              "    let fileData = yield {\n",
              "      promise: fileDataPromise,\n",
              "      response: {\n",
              "        action: 'continue',\n",
              "      }\n",
              "    };\n",
              "\n",
              "    // Use a chunked sending to avoid message size limits. See b/62115660.\n",
              "    let position = 0;\n",
              "    do {\n",
              "      const length = Math.min(fileData.byteLength - position, MAX_PAYLOAD_SIZE);\n",
              "      const chunk = new Uint8Array(fileData, position, length);\n",
              "      position += length;\n",
              "\n",
              "      const base64 = btoa(String.fromCharCode.apply(null, chunk));\n",
              "      yield {\n",
              "        response: {\n",
              "          action: 'append',\n",
              "          file: file.name,\n",
              "          data: base64,\n",
              "        },\n",
              "      };\n",
              "\n",
              "      let percentDone = fileData.byteLength === 0 ?\n",
              "          100 :\n",
              "          Math.round((position / fileData.byteLength) * 100);\n",
              "      percent.textContent = `${percentDone}% done`;\n",
              "\n",
              "    } while (position < fileData.byteLength);\n",
              "  }\n",
              "\n",
              "  // All done.\n",
              "  yield {\n",
              "    response: {\n",
              "      action: 'complete',\n",
              "    }\n",
              "  };\n",
              "}\n",
              "\n",
              "scope.google = scope.google || {};\n",
              "scope.google.colab = scope.google.colab || {};\n",
              "scope.google.colab._files = {\n",
              "  _uploadFiles,\n",
              "  _uploadFilesContinue,\n",
              "};\n",
              "})(self);\n",
              "</script> "
            ]
          },
          "metadata": {}
        },
        {
          "output_type": "stream",
          "name": "stdout",
          "text": [
            "Saving cs_data.csv to cs_data (1).csv\n"
          ]
        }
      ]
    },
    {
      "cell_type": "code",
      "source": [
        "#io와 pandas 모듈 import\n",
        "import io\n",
        "import pandas as pd"
      ],
      "metadata": {
        "id": "Oh9GRSwNuFeO"
      },
      "execution_count": 3,
      "outputs": []
    },
    {
      "cell_type": "code",
      "source": [
        "#pd.read_csv로 csv파일 불러오기\n",
        "col=['no','SeriousDlqin2yrs','RevolvingUtilizationOfUnsecuredLines','age','NumberOfTime30-59DaysPastDueNotWorse','DebtRatio','MonthlyIncome','NumberOfOpenCreditLinesAndLoans','NumberOfTimes90DaysLate','NumberRealEstateLoansOrLines','NumberOfTime60-89DaysPastDueNotWorse','NumberOfDependents']\n",
        "data = pd.read_csv(io.BytesIO(myfile['cs_data.csv']),\n",
        "                   header=None,   #첫번째 행이 데이터이므로 header가 없다라고 설정.\n",
        "                  names=col,\n",
        "                  skipinitialspace=True, # , 다음의 공백을 제거,\n",
        "                   na_values='?')\n",
        "data.head()"
      ],
      "metadata": {
        "colab": {
          "base_uri": "https://localhost:8080/",
          "height": 341
        },
        "id": "5ihTiQfyv38q",
        "outputId": "28bfc601-b897-4c52-993e-bba2a1614fc8"
      },
      "execution_count": 4,
      "outputs": [
        {
          "output_type": "stream",
          "name": "stderr",
          "text": [
            "/usr/local/lib/python3.7/dist-packages/IPython/core/interactiveshell.py:3326: DtypeWarning: Columns (1,2,3,4,5,6,7,8,9,10,11) have mixed types.Specify dtype option on import or set low_memory=False.\n",
            "  exec(code_obj, self.user_global_ns, self.user_ns)\n"
          ]
        },
        {
          "output_type": "execute_result",
          "data": {
            "text/plain": [
              "    no  SeriousDlqin2yrs  RevolvingUtilizationOfUnsecuredLines  age  \\\n",
              "0  NaN  SeriousDlqin2yrs  RevolvingUtilizationOfUnsecuredLines  age   \n",
              "1  1.0                 1                           0.766126609   45   \n",
              "2  2.0                 0                           0.957151019   40   \n",
              "3  3.0                 0                            0.65818014   38   \n",
              "4  4.0                 0                           0.233809776   30   \n",
              "\n",
              "   NumberOfTime30-59DaysPastDueNotWorse    DebtRatio  MonthlyIncome  \\\n",
              "0  NumberOfTime30-59DaysPastDueNotWorse    DebtRatio  MonthlyIncome   \n",
              "1                                     2  0.802982129           9120   \n",
              "2                                     0  0.121876201           2600   \n",
              "3                                     1  0.085113375           3042   \n",
              "4                                     0  0.036049682           3300   \n",
              "\n",
              "   NumberOfOpenCreditLinesAndLoans  NumberOfTimes90DaysLate  \\\n",
              "0  NumberOfOpenCreditLinesAndLoans  NumberOfTimes90DaysLate   \n",
              "1                               13                        0   \n",
              "2                                4                        0   \n",
              "3                                2                        1   \n",
              "4                                5                        0   \n",
              "\n",
              "   NumberRealEstateLoansOrLines  NumberOfTime60-89DaysPastDueNotWorse  \\\n",
              "0  NumberRealEstateLoansOrLines  NumberOfTime60-89DaysPastDueNotWorse   \n",
              "1                             6                                     0   \n",
              "2                             0                                     0   \n",
              "3                             0                                     0   \n",
              "4                             0                                     0   \n",
              "\n",
              "   NumberOfDependents  \n",
              "0  NumberOfDependents  \n",
              "1                   2  \n",
              "2                   1  \n",
              "3                   0  \n",
              "4                   0  "
            ],
            "text/html": [
              "\n",
              "  <div id=\"df-6e12f709-87f4-4868-bd6e-f1cd5c6de7f4\">\n",
              "    <div class=\"colab-df-container\">\n",
              "      <div>\n",
              "<style scoped>\n",
              "    .dataframe tbody tr th:only-of-type {\n",
              "        vertical-align: middle;\n",
              "    }\n",
              "\n",
              "    .dataframe tbody tr th {\n",
              "        vertical-align: top;\n",
              "    }\n",
              "\n",
              "    .dataframe thead th {\n",
              "        text-align: right;\n",
              "    }\n",
              "</style>\n",
              "<table border=\"1\" class=\"dataframe\">\n",
              "  <thead>\n",
              "    <tr style=\"text-align: right;\">\n",
              "      <th></th>\n",
              "      <th>no</th>\n",
              "      <th>SeriousDlqin2yrs</th>\n",
              "      <th>RevolvingUtilizationOfUnsecuredLines</th>\n",
              "      <th>age</th>\n",
              "      <th>NumberOfTime30-59DaysPastDueNotWorse</th>\n",
              "      <th>DebtRatio</th>\n",
              "      <th>MonthlyIncome</th>\n",
              "      <th>NumberOfOpenCreditLinesAndLoans</th>\n",
              "      <th>NumberOfTimes90DaysLate</th>\n",
              "      <th>NumberRealEstateLoansOrLines</th>\n",
              "      <th>NumberOfTime60-89DaysPastDueNotWorse</th>\n",
              "      <th>NumberOfDependents</th>\n",
              "    </tr>\n",
              "  </thead>\n",
              "  <tbody>\n",
              "    <tr>\n",
              "      <th>0</th>\n",
              "      <td>NaN</td>\n",
              "      <td>SeriousDlqin2yrs</td>\n",
              "      <td>RevolvingUtilizationOfUnsecuredLines</td>\n",
              "      <td>age</td>\n",
              "      <td>NumberOfTime30-59DaysPastDueNotWorse</td>\n",
              "      <td>DebtRatio</td>\n",
              "      <td>MonthlyIncome</td>\n",
              "      <td>NumberOfOpenCreditLinesAndLoans</td>\n",
              "      <td>NumberOfTimes90DaysLate</td>\n",
              "      <td>NumberRealEstateLoansOrLines</td>\n",
              "      <td>NumberOfTime60-89DaysPastDueNotWorse</td>\n",
              "      <td>NumberOfDependents</td>\n",
              "    </tr>\n",
              "    <tr>\n",
              "      <th>1</th>\n",
              "      <td>1.0</td>\n",
              "      <td>1</td>\n",
              "      <td>0.766126609</td>\n",
              "      <td>45</td>\n",
              "      <td>2</td>\n",
              "      <td>0.802982129</td>\n",
              "      <td>9120</td>\n",
              "      <td>13</td>\n",
              "      <td>0</td>\n",
              "      <td>6</td>\n",
              "      <td>0</td>\n",
              "      <td>2</td>\n",
              "    </tr>\n",
              "    <tr>\n",
              "      <th>2</th>\n",
              "      <td>2.0</td>\n",
              "      <td>0</td>\n",
              "      <td>0.957151019</td>\n",
              "      <td>40</td>\n",
              "      <td>0</td>\n",
              "      <td>0.121876201</td>\n",
              "      <td>2600</td>\n",
              "      <td>4</td>\n",
              "      <td>0</td>\n",
              "      <td>0</td>\n",
              "      <td>0</td>\n",
              "      <td>1</td>\n",
              "    </tr>\n",
              "    <tr>\n",
              "      <th>3</th>\n",
              "      <td>3.0</td>\n",
              "      <td>0</td>\n",
              "      <td>0.65818014</td>\n",
              "      <td>38</td>\n",
              "      <td>1</td>\n",
              "      <td>0.085113375</td>\n",
              "      <td>3042</td>\n",
              "      <td>2</td>\n",
              "      <td>1</td>\n",
              "      <td>0</td>\n",
              "      <td>0</td>\n",
              "      <td>0</td>\n",
              "    </tr>\n",
              "    <tr>\n",
              "      <th>4</th>\n",
              "      <td>4.0</td>\n",
              "      <td>0</td>\n",
              "      <td>0.233809776</td>\n",
              "      <td>30</td>\n",
              "      <td>0</td>\n",
              "      <td>0.036049682</td>\n",
              "      <td>3300</td>\n",
              "      <td>5</td>\n",
              "      <td>0</td>\n",
              "      <td>0</td>\n",
              "      <td>0</td>\n",
              "      <td>0</td>\n",
              "    </tr>\n",
              "  </tbody>\n",
              "</table>\n",
              "</div>\n",
              "      <button class=\"colab-df-convert\" onclick=\"convertToInteractive('df-6e12f709-87f4-4868-bd6e-f1cd5c6de7f4')\"\n",
              "              title=\"Convert this dataframe to an interactive table.\"\n",
              "              style=\"display:none;\">\n",
              "        \n",
              "  <svg xmlns=\"http://www.w3.org/2000/svg\" height=\"24px\"viewBox=\"0 0 24 24\"\n",
              "       width=\"24px\">\n",
              "    <path d=\"M0 0h24v24H0V0z\" fill=\"none\"/>\n",
              "    <path d=\"M18.56 5.44l.94 2.06.94-2.06 2.06-.94-2.06-.94-.94-2.06-.94 2.06-2.06.94zm-11 1L8.5 8.5l.94-2.06 2.06-.94-2.06-.94L8.5 2.5l-.94 2.06-2.06.94zm10 10l.94 2.06.94-2.06 2.06-.94-2.06-.94-.94-2.06-.94 2.06-2.06.94z\"/><path d=\"M17.41 7.96l-1.37-1.37c-.4-.4-.92-.59-1.43-.59-.52 0-1.04.2-1.43.59L10.3 9.45l-7.72 7.72c-.78.78-.78 2.05 0 2.83L4 21.41c.39.39.9.59 1.41.59.51 0 1.02-.2 1.41-.59l7.78-7.78 2.81-2.81c.8-.78.8-2.07 0-2.86zM5.41 20L4 18.59l7.72-7.72 1.47 1.35L5.41 20z\"/>\n",
              "  </svg>\n",
              "      </button>\n",
              "      \n",
              "  <style>\n",
              "    .colab-df-container {\n",
              "      display:flex;\n",
              "      flex-wrap:wrap;\n",
              "      gap: 12px;\n",
              "    }\n",
              "\n",
              "    .colab-df-convert {\n",
              "      background-color: #E8F0FE;\n",
              "      border: none;\n",
              "      border-radius: 50%;\n",
              "      cursor: pointer;\n",
              "      display: none;\n",
              "      fill: #1967D2;\n",
              "      height: 32px;\n",
              "      padding: 0 0 0 0;\n",
              "      width: 32px;\n",
              "    }\n",
              "\n",
              "    .colab-df-convert:hover {\n",
              "      background-color: #E2EBFA;\n",
              "      box-shadow: 0px 1px 2px rgba(60, 64, 67, 0.3), 0px 1px 3px 1px rgba(60, 64, 67, 0.15);\n",
              "      fill: #174EA6;\n",
              "    }\n",
              "\n",
              "    [theme=dark] .colab-df-convert {\n",
              "      background-color: #3B4455;\n",
              "      fill: #D2E3FC;\n",
              "    }\n",
              "\n",
              "    [theme=dark] .colab-df-convert:hover {\n",
              "      background-color: #434B5C;\n",
              "      box-shadow: 0px 1px 3px 1px rgba(0, 0, 0, 0.15);\n",
              "      filter: drop-shadow(0px 1px 2px rgba(0, 0, 0, 0.3));\n",
              "      fill: #FFFFFF;\n",
              "    }\n",
              "  </style>\n",
              "\n",
              "      <script>\n",
              "        const buttonEl =\n",
              "          document.querySelector('#df-6e12f709-87f4-4868-bd6e-f1cd5c6de7f4 button.colab-df-convert');\n",
              "        buttonEl.style.display =\n",
              "          google.colab.kernel.accessAllowed ? 'block' : 'none';\n",
              "\n",
              "        async function convertToInteractive(key) {\n",
              "          const element = document.querySelector('#df-6e12f709-87f4-4868-bd6e-f1cd5c6de7f4');\n",
              "          const dataTable =\n",
              "            await google.colab.kernel.invokeFunction('convertToInteractive',\n",
              "                                                     [key], {});\n",
              "          if (!dataTable) return;\n",
              "\n",
              "          const docLinkHtml = 'Like what you see? Visit the ' +\n",
              "            '<a target=\"_blank\" href=https://colab.research.google.com/notebooks/data_table.ipynb>data table notebook</a>'\n",
              "            + ' to learn more about interactive tables.';\n",
              "          element.innerHTML = '';\n",
              "          dataTable['output_type'] = 'display_data';\n",
              "          await google.colab.output.renderOutput(dataTable, element);\n",
              "          const docLink = document.createElement('div');\n",
              "          docLink.innerHTML = docLinkHtml;\n",
              "          element.appendChild(docLink);\n",
              "        }\n",
              "      </script>\n",
              "    </div>\n",
              "  </div>\n",
              "  "
            ]
          },
          "metadata": {},
          "execution_count": 4
        }
      ]
    },
    {
      "cell_type": "code",
      "source": [
        "# col을 지정해줬으므로 첫번째 인덱스를 drop하고 no라는 인덱스를 지정\n",
        "df = data\n",
        "df = df.drop([0], axis = 0)\n",
        "df = df.set_index('no')"
      ],
      "metadata": {
        "id": "xdmGdsJEwIRb"
      },
      "execution_count": 5,
      "outputs": []
    },
    {
      "cell_type": "code",
      "source": [
        "# 결측치 제거\n",
        "df.dropna(inplace=True)"
      ],
      "metadata": {
        "id": "j1V78J4WwUyT"
      },
      "execution_count": 6,
      "outputs": []
    },
    {
      "cell_type": "code",
      "source": [
        "# 형변환\n",
        "df = df.astype('float')"
      ],
      "metadata": {
        "id": "bfTmBWeywXWF"
      },
      "execution_count": 7,
      "outputs": []
    },
    {
      "cell_type": "code",
      "source": [
        "# X(SeriousDlqin2yrs을 제외한 feature들), y(SeriousDlqin2yrs) 분리\n",
        "y = df['SeriousDlqin2yrs']\n",
        "X = df.drop(columns='SeriousDlqin2yrs')\n",
        "print(type(X), type(y))\n",
        "X.columns, y.name"
      ],
      "metadata": {
        "colab": {
          "base_uri": "https://localhost:8080/"
        },
        "id": "H20FwRS2wYue",
        "outputId": "924b5cd5-adcd-4ef5-aacf-58ec19309160"
      },
      "execution_count": 8,
      "outputs": [
        {
          "output_type": "stream",
          "name": "stdout",
          "text": [
            "<class 'pandas.core.frame.DataFrame'> <class 'pandas.core.series.Series'>\n"
          ]
        },
        {
          "output_type": "execute_result",
          "data": {
            "text/plain": [
              "(Index(['RevolvingUtilizationOfUnsecuredLines', 'age',\n",
              "        'NumberOfTime30-59DaysPastDueNotWorse', 'DebtRatio', 'MonthlyIncome',\n",
              "        'NumberOfOpenCreditLinesAndLoans', 'NumberOfTimes90DaysLate',\n",
              "        'NumberRealEstateLoansOrLines', 'NumberOfTime60-89DaysPastDueNotWorse',\n",
              "        'NumberOfDependents'],\n",
              "       dtype='object'), 'SeriousDlqin2yrs')"
            ]
          },
          "metadata": {},
          "execution_count": 8
        }
      ]
    },
    {
      "cell_type": "code",
      "source": [
        "# 테스트 셋 분할\n",
        "from sklearn.model_selection import train_test_split\n",
        "X_train, X_test, y_train, y_test = train_test_split(X, y, test_size=0.2, stratify=y, random_state=0)  #test set 분리\n",
        "# X_train, X_val, y_train, y_val = train_test_split(X_train, y_train, test_size=0.25, stratify=y_train, random_state=0) # train/val set 분리\n",
        "\n",
        "print(X_train.shape, X_test.shape)"
      ],
      "metadata": {
        "colab": {
          "base_uri": "https://localhost:8080/"
        },
        "id": "i6OVtHBFwa0i",
        "outputId": "1e68a5c6-4ab1-4469-9dec-7aac6816e97f"
      },
      "execution_count": 9,
      "outputs": [
        {
          "output_type": "stream",
          "name": "stdout",
          "text": [
            "(96215, 10) (24054, 10)\n"
          ]
        }
      ]
    },
    {
      "cell_type": "code",
      "source": [
        "# metrics 함수 직접 불러오기\n",
        "\n",
        "\n",
        "from sklearn.metrics import accuracy_score, recall_score, precision_score, f1_score, confusion_matrix, ConfusionMatrixDisplay\n",
        "from sklearn.metrics import precision_recall_curve, average_precision_score, PrecisionRecallDisplay, roc_curve, roc_auc_score, RocCurveDisplay\n",
        "import matplotlib.pyplot as plt\n",
        "\n",
        "# 분류문제 평가 함수\n",
        "def print_metrics_classification(y, pred, title=None):\n",
        "   \"\"\"\n",
        "   정답(target)과 모델이 추론한 값을 받아 정확도, 재현율, 정밀도, f1 점수를 출력\n",
        "   [parameter]\n",
        "       y: ndarray - 정답(target)\n",
        "       pred: ndarray - 모델이 추론한 결과\n",
        "       title: str - 출력할 내용의 title. 기본값: None = 출력안한다.\n",
        "   [return value]\n",
        "   [exception]\n",
        "   \"\"\"\n",
        "   if title:\n",
        "       print(title)\n",
        "   print('정확도(accuracy):', accuracy_score(y, pred))\n",
        "   print('재현율(recall):', recall_score(y, pred))\n",
        "   print('정밀도(precision)', precision_score(y, pred))\n",
        "   print('F1점수:', f1_score(y, pred))\n",
        "\n",
        "def plot_confusionmatrix(y, pred, title=None):\n",
        "   \"\"\"\n",
        "   정답과 모델이 추론한 결과를 이용해 Confusion Matrix를 시각화(히트맵)하는 함수\n",
        "   [parameter]\n",
        "       y: ndarray - 정답(target)\n",
        "       pred: ndarray - 모델이 추론한 결과\n",
        "       title: str - 출력할 내용의 title. 기본값: None = 출력안한다.\n",
        "   \"\"\"\n",
        "   cm = confusion_matrix(y, pred)\n",
        "   disp = ConfusionMatrixDisplay(cm)\n",
        "   disp.plot(cmap='Blues')\n",
        "   if title:\n",
        "       plt.title(title)\n",
        "   plt.show()\n",
        "\n",
        "   \n",
        "def plot_precisionrecall_curve(y, pos_proba, title=None):\n",
        "   \"\"\"\n",
        "   Precision Recall Curve 를 시각화하는 함수\n",
        "   [parameter]\n",
        "       y: ndarray - 정답\n",
        "       pos_proba: ndarray - positive(양성)의 확률\n",
        "       title: str - 출력할 내용의 title\n",
        "   \"\"\"\n",
        "   ap_score = average_precision_score(y, pos_proba)\n",
        "   precisions, recalls, threshs = precision_recall_curve(y, pos_proba)\n",
        "   disp = PrecisionRecallDisplay(precisions, recalls, average_precision=ap_score)\n",
        "   disp.plot()\n",
        "   if title:\n",
        "       plt.title(title)\n",
        "   plt.show()\n",
        "   \n",
        "def plot_roccurve(y, pos_proba, title=None):\n",
        "   \"\"\"\n",
        "   ROC Curve를 시각화하는 함수\n",
        "   [parameter]\n",
        "       y: ndarry - 정답\n",
        "       pos_proba: ndarray - positive(양성)의 확률\n",
        "       title: str - 출력할 내용의 title\n",
        "   \"\"\"\n",
        "   auc_score = roc_auc_score(y, pos_proba)\n",
        "   fprs, tprs, threshs = roc_curve(y, pos_proba)\n",
        "   disp = RocCurveDisplay(fpr=fprs, tpr=tprs, roc_auc=auc_score)\n",
        "   disp.plot()\n",
        "   if title:\n",
        "       plt.title(title)\n",
        "   plt.show()\n"
      ],
      "metadata": {
        "id": "HkgrKuJxwr7H"
      },
      "execution_count": 10,
      "outputs": []
    },
    {
      "cell_type": "code",
      "source": [
        "# 사용할 모델들 import\n",
        "from sklearn.preprocessing import StandardScaler\n",
        "from sklearn.model_selection import  GridSearchCV\n",
        "from sklearn.pipeline import Pipeline\n",
        "\n",
        "# 모델들\n",
        "from sklearn.svm import SVC\n",
        "from sklearn.neighbors import KNeighborsClassifier\n",
        "from sklearn.ensemble import RandomForestClassifier, VotingClassifier\n",
        "from sklearn.linear_model import LogisticRegression\n",
        "from xgboost import XGBClassifier\n",
        "\n",
        "\n",
        "from sklearn.metrics import roc_auc_score"
      ],
      "metadata": {
        "id": "d6s3p0XXwc9k"
      },
      "execution_count": 11,
      "outputs": []
    },
    {
      "cell_type": "code",
      "source": [
        "# 스케일러\n",
        "scaler = StandardScaler()\n",
        "X_train_scaled = scaler.fit_transform(X_train)\n",
        "X_test_scaled = scaler.transform(X_test)"
      ],
      "metadata": {
        "id": "Jt16jRbnwigr"
      },
      "execution_count": 12,
      "outputs": []
    },
    {
      "cell_type": "code",
      "source": [
        "# Pipeline을 통해 대략적인 모델들의 성능 평가. 여기서 가장 좋은 모델을 뽑아 추후 하이퍼파라미터 튜닝할 것.\n",
        "svm = Pipeline([('scaler', StandardScaler()), \n",
        "                (\"svm\", SVC(random_state=0))], \n",
        "              verbose=True)\n",
        "knn = Pipeline([('scaler', StandardScaler()),\n",
        "                ('knn', KNeighborsClassifier(n_neighbors=5))\n",
        "               ], verbose=True)\n",
        "lr = Pipeline([('scaler', StandardScaler()),\n",
        "               ('lr', LogisticRegression(max_iter=1000, random_state=0))])\n",
        "\n",
        "rfc = RandomForestClassifier(n_estimators=200, max_depth=4, random_state=0)\n",
        "\n",
        "xgb = XGBClassifier(n_estimators=200, max_depth=2, random_state=0)"
      ],
      "metadata": {
        "id": "zXEhQciEwvRj"
      },
      "execution_count": 13,
      "outputs": []
    },
    {
      "cell_type": "code",
      "source": [
        "estimators = [('svm', svm),  #(모델이름, 모델객체)\n",
        "              ('knn', knn), \n",
        "              ('LogisticRegression', lr), \n",
        "              ('Random Forest', rfc),\n",
        "              ('XGBoost', xgb)]\n",
        "\n",
        "# 각 모델의 test set 추론 결과를 저장할 딕셔너리\n",
        "pred_test_dict = {}\n",
        "\n",
        "for model_name, model  in estimators:\n",
        "    # 학습\n",
        "    model.fit(X_train_scaled, y_train)\n",
        "    # 추론\n",
        "    pred_train = model.predict(X_train_scaled)\n",
        "    pred_test = model.predict(X_test_scaled)\n",
        "    \n",
        "    pred_test_dict[model_name] = pred_test\n",
        "    \n",
        "    # 평가\n",
        "    print(model_name)\n",
        "    print(roc_auc_score(y_train, pred_train))\n",
        "    print_metrics_classification(y_train,pred_train,\"Trainset 평가\")\n",
        "    print(\"=============\")\n",
        "    print_metrics_classification(y_test,pred_test,\"testset 평가\")\n",
        "    print(\"=============\")\n",
        "#     print_metrics_classification(y_train, pred_train, f'{model_name}의 Train set 평가')\n",
        "#     print('-------------------------')\n",
        "#     print_metrics_classification(y_test, pred_test, f'{model_name}의 Test set 평가')\n",
        "#     print(\"================================================\")"
      ],
      "metadata": {
        "colab": {
          "base_uri": "https://localhost:8080/"
        },
        "id": "nRHnSysPw03j",
        "outputId": "8f2f8c33-d2aa-4bd6-89c3-0c302f5dc217"
      },
      "execution_count": 14,
      "outputs": [
        {
          "output_type": "stream",
          "name": "stdout",
          "text": [
            "[Pipeline] ............ (step 1 of 2) Processing scaler, total=   0.0s\n",
            "[Pipeline] ............... (step 2 of 2) Processing svm, total= 9.1min\n",
            "svm\n",
            "0.5260507003302326\n",
            "Trainset 평가\n",
            "정확도(accuracy): 0.9326300472899236\n",
            "재현율(recall): 0.05384385282680227\n",
            "정밀도(precision) 0.6976744186046512\n",
            "F1점수: 0.09997222993612884\n",
            "=============\n",
            "testset 평가\n",
            "정확도(accuracy): 0.9336908622266566\n",
            "재현율(recall): 0.06403351286654697\n",
            "정밀도(precision) 0.7753623188405797\n",
            "F1점수: 0.11829740187949142\n",
            "[Pipeline] ............ (step 1 of 2) Processing scaler, total=   0.0s\n",
            "[Pipeline] ............... (step 2 of 2) Processing knn, total=   0.2s\n",
            "knn\n",
            "0.6106465428456718\n",
            "Trainset 평가\n",
            "정확도(accuracy): 0.9401652548978849\n",
            "재현율(recall): 0.2279389769667963\n",
            "정밀도(precision) 0.7192071731949032\n",
            "F1점수: 0.3461669505962521\n",
            "=============\n",
            "testset 평가\n",
            "정확도(accuracy): 0.9291178182422882\n",
            "재현율(recall): 0.13764213046080193\n",
            "정밀도(precision) 0.46558704453441296\n",
            "F1점수: 0.21247113163972287\n",
            "LogisticRegression\n",
            "0.5162137940908937\n",
            "Trainset 평가\n",
            "정확도(accuracy): 0.9309359247518578\n",
            "재현율(recall): 0.03454980556386479\n",
            "정밀도(precision) 0.5486935866983373\n",
            "F1점수: 0.06500633178556352\n",
            "=============\n",
            "testset 평가\n",
            "정확도(accuracy): 0.932111083395693\n",
            "재현율(recall): 0.043686415320167565\n",
            "정밀도(precision) 0.6759259259259259\n",
            "F1점수: 0.08206857785272625\n",
            "Random Forest\n",
            "0.5367888364502919\n",
            "Trainset 평가\n",
            "정확도(accuracy): 0.9329106688146339\n",
            "재현율(recall): 0.07672749027819324\n",
            "정밀도(precision) 0.6452830188679245\n",
            "F1점수: 0.13714744018179387\n",
            "=============\n",
            "testset 평가\n",
            "정확도(accuracy): 0.9341897397522242\n",
            "재현율(recall): 0.0921603830041891\n",
            "정밀도(precision) 0.7\n",
            "F1점수: 0.16287678476996298\n",
            "XGBoost\n",
            "0.587917262069142\n",
            "Trainset 평가\n",
            "정확도(accuracy): 0.9350828872836876\n",
            "재현율(recall): 0.18471432844750224\n",
            "정밀도(precision) 0.6083743842364532\n",
            "F1점수: 0.28338687471317114\n",
            "=============\n",
            "testset 평가\n",
            "정확도(accuracy): 0.9355616529475347\n",
            "재현율(recall): 0.19389587073608616\n",
            "정밀도(precision) 0.6148007590132827\n",
            "F1점수: 0.29481346678798903\n"
          ]
        }
      ]
    },
    {
      "cell_type": "markdown",
      "source": [
        "놀랍게도 가장 기본 모델인 knn이 평가지표에서 0.6106465428456718로 1위를 했다.\n",
        " - 단순한 모델일수록 더 잘 예측하는 게 아닐까?\n",
        " - 과적합이 많이 일어나고 있는 게 아닐까?"
      ],
      "metadata": {
        "id": "ciZ96l3w5JKT"
      }
    },
    {
      "cell_type": "code",
      "source": [
        "from sklearn.ensemble import GradientBoostingClassifier #RandomForestClassifier, AdaBoostClassifier"
      ],
      "metadata": {
        "id": "rD04e8p09prR"
      },
      "execution_count": 25,
      "outputs": []
    },
    {
      "cell_type": "markdown",
      "source": [
        "그럼 앙상블 모델인 GradientBoostingClassifier를 사용해서 앙상블의 성능을 보자."
      ],
      "metadata": {
        "id": "dMBSjAbv91HJ"
      }
    },
    {
      "cell_type": "code",
      "source": [
        "\n",
        "gbc = GradientBoostingClassifier(random_state=0)\n",
        "param_grid = {'n_estimators' : [20,30,40], \"max_depth\": [2,5,7,9],\n",
        "\"max_features\": [2,3,5] ,'learning_rate' : [0.05, 0.075, 0.1, 0.25, 0.5, 0.75, 1]\n",
        "}\n",
        "# RandomizedSearchCV로 최적의 파라미터 찾기(GridSearchCV 너무오래 걸려서 포기...)\n",
        "grid = RandomizedSearchCV(gbc, param_grid, cv=5,scoring='roc_auc',n_iter = 10)\n",
        "grid.fit(X_train_scaled, y_train)\n",
        "print(\"Grid-Search with roc_auc\")\n",
        "print(\"Best parameters:\", grid.best_params_)\n",
        "print(\"Best cross-validation score (auc_roc)): {:.3f}\".format(grid.best_score_))\n",
        "print(\"====================================\")\n",
        "print(\"Test set roc_auc_score: {:.3f}\".format(\n",
        "roc_auc_score(y_test, grid.decision_function(X_test_scaled)))) #decision_function: 찾았던 최고의 파라미터로 해줌 : Call decision_function on the estimator with the best found parameters."
      ],
      "metadata": {
        "colab": {
          "base_uri": "https://localhost:8080/"
        },
        "id": "fhwwRLsN-BMc",
        "outputId": "65c3fbb1-0f2d-4c0a-ab6c-14b7e5853f63"
      },
      "execution_count": 29,
      "outputs": [
        {
          "output_type": "stream",
          "name": "stdout",
          "text": [
            "Grid-Search with roc_auc\n",
            "Best parameters: {'n_estimators': 40, 'max_features': 2, 'max_depth': 7, 'learning_rate': 0.1}\n",
            "Best cross-validation score (auc_roc)): 0.854\n",
            "====================================\n",
            "Test set AUC: 0.855\n"
          ]
        }
      ]
    },
    {
      "cell_type": "markdown",
      "source": [
        "0.855로 목표치였던 0.85를 넘김. 과적합도 안 일어남!\n",
        "> 다만 모델이 단순할수록 성능이 괜찮았던 걸 보아 영향을 주지 않았던 컬럼들을 드롭하고 다시 계산하면 성능이 더 좋아지지 않을까 고민됨.\n",
        "\n",
        "\n"
      ],
      "metadata": {
        "id": "WcttVlQ0CraB"
      }
    },
    {
      "cell_type": "code",
      "source": [
        "import pandas as pd\n",
        "gb2 = GradientBoostingClassifier(random_state=0, n_estimators=40, max_features=2, max_depth=7, learning_rate=0.1)\n",
        "gb2.fit(X_train_scaled, y_train)\n",
        "fi = pd.Series(gb2.feature_importances_)\n",
        "fi.sort_values(ascending=True)"
      ],
      "metadata": {
        "colab": {
          "base_uri": "https://localhost:8080/"
        },
        "id": "rIBC8jG1CPpw",
        "outputId": "4f976bf0-c7eb-4661-8bff-5a96d59abd73"
      },
      "execution_count": 42,
      "outputs": [
        {
          "output_type": "execute_result",
          "data": {
            "text/plain": [
              "9    0.015547\n",
              "7    0.021293\n",
              "5    0.034490\n",
              "1    0.043032\n",
              "4    0.045900\n",
              "3    0.059233\n",
              "2    0.124361\n",
              "8    0.160634\n",
              "0    0.195361\n",
              "6    0.300149\n",
              "dtype: float64"
            ]
          },
          "metadata": {},
          "execution_count": 42
        }
      ]
    },
    {
      "cell_type": "markdown",
      "source": [
        "10, 8번 컬럼이 안 중요하다는 것을 알게 됨(X에는 0번 인덱스가 빠졌으므로 원래 dataFrame에서 컬럼번호+1 해줘야 구분가능함)\n",
        "- 스케일링을 해둬서 keyvalue 오류가 생김->인덱스 번호로 구분해야 함....\n",
        "- NumberOfDependents \n",
        "- NumberRealEstateLoansOrLines 컬럼을 제외해보자."
      ],
      "metadata": {
        "id": "_-SUe5B-GBlX"
      }
    },
    {
      "cell_type": "code",
      "source": [
        "df.info()"
      ],
      "metadata": {
        "colab": {
          "base_uri": "https://localhost:8080/"
        },
        "id": "nHGupn0sCLNA",
        "outputId": "a06069b9-6be5-43df-9d92-57ab2a49c916"
      },
      "execution_count": 41,
      "outputs": [
        {
          "output_type": "stream",
          "name": "stdout",
          "text": [
            "<class 'pandas.core.frame.DataFrame'>\n",
            "Float64Index: 120269 entries, 1.0 to 150000.0\n",
            "Data columns (total 11 columns):\n",
            " #   Column                                Non-Null Count   Dtype  \n",
            "---  ------                                --------------   -----  \n",
            " 0   SeriousDlqin2yrs                      120269 non-null  float64\n",
            " 1   RevolvingUtilizationOfUnsecuredLines  120269 non-null  float64\n",
            " 2   age                                   120269 non-null  float64\n",
            " 3   NumberOfTime30-59DaysPastDueNotWorse  120269 non-null  float64\n",
            " 4   DebtRatio                             120269 non-null  float64\n",
            " 5   MonthlyIncome                         120269 non-null  float64\n",
            " 6   NumberOfOpenCreditLinesAndLoans       120269 non-null  float64\n",
            " 7   NumberOfTimes90DaysLate               120269 non-null  float64\n",
            " 8   NumberRealEstateLoansOrLines          120269 non-null  float64\n",
            " 9   NumberOfTime60-89DaysPastDueNotWorse  120269 non-null  float64\n",
            " 10  NumberOfDependents                    120269 non-null  float64\n",
            "dtypes: float64(11)\n",
            "memory usage: 11.0 MB\n"
          ]
        }
      ]
    },
    {
      "cell_type": "code",
      "source": [
        "X = df.drop(columns=['SeriousDlqin2yrs','NumberOfDependents','NumberRealEstateLoansOrLines' ])"
      ],
      "metadata": {
        "id": "COdtdMfuAY6e"
      },
      "execution_count": 43,
      "outputs": []
    },
    {
      "cell_type": "code",
      "source": [
        "# 테스트 셋 분할\n",
        "from sklearn.model_selection import train_test_split\n",
        "X_train, X_test, y_train, y_test = train_test_split(X, y, test_size=0.2, stratify=y, random_state=0)  #test set 분리\n",
        "# X_train, X_val, y_train, y_val = train_test_split(X_train, y_train, test_size=0.25, stratify=y_train, random_state=0) # train/val set 분리\n",
        "\n",
        "print(X_train.shape, X_test.shape)"
      ],
      "metadata": {
        "colab": {
          "base_uri": "https://localhost:8080/"
        },
        "id": "xZEnQOKEHesu",
        "outputId": "8a2237e4-1456-4b48-df36-9d1ba807933b"
      },
      "execution_count": 44,
      "outputs": [
        {
          "output_type": "stream",
          "name": "stdout",
          "text": [
            "(96215, 8) (24054, 8)\n"
          ]
        }
      ]
    },
    {
      "cell_type": "code",
      "source": [
        "# 스케일러\n",
        "scaler = StandardScaler()\n",
        "X_train_scaled = scaler.fit_transform(X_train)\n",
        "X_test_scaled = scaler.transform(X_test)"
      ],
      "metadata": {
        "id": "fV4RHEgMHevL"
      },
      "execution_count": 45,
      "outputs": []
    },
    {
      "cell_type": "code",
      "source": [
        "gbc = GradientBoostingClassifier(random_state=0)\n",
        "param_grid = {'n_estimators' : [20,30,40], \"max_depth\": [2,5,7,9],\n",
        "\"max_features\": [2,3,5] ,'learning_rate' : [0.05, 0.075, 0.1, 0.25, 0.5, 0.75, 1]\n",
        "}\n",
        "# RandomizedSearchCV로 최적의 파라미터 찾기(GridSearchCV 너무오래 걸려서 포기...)\n",
        "grid = RandomizedSearchCV(gbc, param_grid, cv=5,scoring='roc_auc',n_iter = 10)\n",
        "grid.fit(X_train_scaled, y_train)\n",
        "print(\"Grid-Search with roc_auc\")\n",
        "print(\"Best parameters:\", grid.best_params_)\n",
        "print(\"Best cross-validation score (auc_roc)): {:.3f}\".format(grid.best_score_))\n",
        "print(\"====================================\")\n",
        "print(\"Test set roc_auc_score: {:.3f}\".format(\n",
        "roc_auc_score(y_test, grid.decision_function(X_test_scaled))))"
      ],
      "metadata": {
        "colab": {
          "base_uri": "https://localhost:8080/"
        },
        "id": "Rvtc8a0CHext",
        "outputId": "29347453-1d72-4083-ad68-e20546657cce"
      },
      "execution_count": 46,
      "outputs": [
        {
          "output_type": "stream",
          "name": "stdout",
          "text": [
            "Grid-Search with roc_auc\n",
            "Best parameters: {'n_estimators': 40, 'max_features': 2, 'max_depth': 7, 'learning_rate': 0.05}\n",
            "Best cross-validation score (auc_roc)): 0.853\n",
            "====================================\n",
            "Test set roc_auc_score: 0.853\n"
          ]
        }
      ]
    },
    {
      "cell_type": "markdown",
      "source": [
        "역시나 예상대로 과적합이 일어나지도 않았는데 feature를 줄이는 것은 별 소용없다는 것을 증명했다.\n",
        "> 하지만 단일 모델들은 어떨까?"
      ],
      "metadata": {
        "id": "pCKf7RunIciR"
      }
    },
    {
      "cell_type": "code",
      "source": [
        "for model_name, model  in estimators:\n",
        "    # 학습\n",
        "    model.fit(X_train_scaled, y_train)\n",
        "    # 추론\n",
        "    pred_train = model.predict(X_train_scaled)\n",
        "    pred_test = model.predict(X_test_scaled)\n",
        "    \n",
        "    pred_test_dict[model_name] = pred_test\n",
        "    \n",
        "    # 평가\n",
        "    print(model_name)\n",
        "    print(roc_auc_score(y_train, pred_train))\n",
        "    print_metrics_classification(y_train,pred_train,\"Trainset 평가\")\n",
        "    print(\"=============\")\n",
        "    print_metrics_classification(y_test,pred_test,\"testset 평가\")\n",
        "    print(\"*************************************\")"
      ],
      "metadata": {
        "colab": {
          "base_uri": "https://localhost:8080/"
        },
        "id": "iE-QI7kJIhr3",
        "outputId": "cd318620-2ebe-4108-9b99-9fc7ac4d540b"
      },
      "execution_count": 48,
      "outputs": [
        {
          "output_type": "stream",
          "name": "stdout",
          "text": [
            "[Pipeline] ............ (step 1 of 2) Processing scaler, total=   0.0s\n",
            "[Pipeline] ............... (step 2 of 2) Processing svm, total= 3.7min\n",
            "svm\n",
            "0.5307406564056418\n",
            "Trainset 평가\n",
            "정확도(accuracy): 0.9328587018656135\n",
            "재현율(recall): 0.06371522584504935\n",
            "정밀도(precision) 0.6805111821086262\n",
            "F1점수: 0.11652078774617067\n",
            "=============\n",
            "testset 평가\n",
            "정확도(accuracy): 0.9338987278623098\n",
            "재현율(recall): 0.0718132854578097\n",
            "정밀도(precision) 0.7547169811320755\n",
            "F1점수: 0.13114754098360656\n",
            "*************************************\n",
            "[Pipeline] ............ (step 1 of 2) Processing scaler, total=   0.0s\n",
            "[Pipeline] ............... (step 2 of 2) Processing knn, total=   0.1s\n",
            "knn\n",
            "0.6304691272166262\n",
            "Trainset 평가\n",
            "정확도(accuracy): 0.941641116250065\n",
            "재현율(recall): 0.26906969787615914\n",
            "정밀도(precision) 0.7119113573407202\n",
            "F1점수: 0.3905351134266797\n",
            "=============\n",
            "testset 평가\n",
            "정확도(accuracy): 0.9282032094454145\n",
            "재현율(recall): 0.17235188509874327\n",
            "정밀도(precision) 0.45569620253164556\n",
            "F1점수: 0.25010855405992183\n",
            "*************************************\n",
            "LogisticRegression\n",
            "0.5160809821807948\n",
            "Trainset 평가\n",
            "정확도(accuracy): 0.930946318141662\n",
            "재현율(recall): 0.03425067304816033\n",
            "정밀도(precision) 0.5504807692307693\n",
            "F1점수: 0.06448887637285271\n",
            "=============\n",
            "testset 평가\n",
            "정확도(accuracy): 0.9320695102685624\n",
            "재현율(recall): 0.041891083183722325\n",
            "정밀도(precision) 0.6796116504854369\n",
            "F1점수: 0.07891770011273957\n",
            "*************************************\n",
            "Random Forest\n",
            "0.524745878442982\n",
            "Trainset 평가\n",
            "정확도(accuracy): 0.9323909993244297\n",
            "재현율(recall): 0.05130122644331439\n",
            "정밀도(precision) 0.6792079207920793\n",
            "F1점수: 0.0953970240578501\n",
            "=============\n",
            "testset 평가\n",
            "정확도(accuracy): 0.9331504115739586\n",
            "재현율(recall): 0.05685218432076601\n",
            "정밀도(precision) 0.7480314960629921\n",
            "F1점수: 0.1056729699666296\n",
            "*************************************\n",
            "XGBoost\n",
            "0.5869506661756869\n",
            "Trainset 평가\n",
            "정확도(accuracy): 0.9349581666060386\n",
            "재현율(recall): 0.18276996709542329\n",
            "정밀도(precision) 0.6061507936507936\n",
            "F1점수: 0.28085497586761665\n",
            "=============\n",
            "testset 평가\n",
            "정확도(accuracy): 0.9357695185831878\n",
            "재현율(recall): 0.19628964691801318\n",
            "정밀도(precision) 0.6188679245283019\n",
            "F1점수: 0.2980463425715584\n",
            "*************************************\n"
          ]
        }
      ]
    },
    {
      "cell_type": "markdown",
      "source": [
        "오르기는 올랐지만 별로 소용 없었던 걸로....."
      ],
      "metadata": {
        "id": "hvZAk6kgLKMJ"
      }
    },
    {
      "cell_type": "code",
      "source": [],
      "metadata": {
        "id": "rpM-vCZV6Lc9"
      },
      "execution_count": 17,
      "outputs": []
    },
    {
      "cell_type": "code",
      "source": [
        "from sklearn.model_selection import RandomizedSearchCV\n",
        "\n",
        "params = {\n",
        "    'max_depth':range(2,15,1), \n",
        "    \"min_samples_split\":range(2,21,2),\n",
        "    \"min_samples_leaf\":[0.01, 0.02, 0.03,0.04, 0.05], \n",
        "    \"max_leaf_nodes\": range(10, 71, 5),\n",
        "    \"max_features\":['auto', 0.95, 0.9, 0.85, 0.8, 0.75, 0.7],\n",
        "    \"splitter\":['random', 'best']\n",
        "}"
      ],
      "metadata": {
        "id": "SyPb6ON_4lMj"
      },
      "execution_count": 19,
      "outputs": []
    },
    {
      "cell_type": "code",
      "source": [
        "rs = RandomizedSearchCV(DecisionTreeClassifier(random_state=0), \n",
        "                        params, \n",
        "                        n_iter=100,  # 몇개의 조합만 테스트 할 것인지 개수.\n",
        "                        scoring='roc_auc', \n",
        "                        cv=5,\n",
        "                        n_jobs=-1\n",
        "                       )\n",
        "rs.fit(X_train_scaled, y_train)"
      ],
      "metadata": {
        "colab": {
          "base_uri": "https://localhost:8080/"
        },
        "id": "3BdiE_2P41iy",
        "outputId": "fa8f4c49-e549-4890-b89b-2efc24c9d2e5"
      },
      "execution_count": 20,
      "outputs": [
        {
          "output_type": "execute_result",
          "data": {
            "text/plain": [
              "RandomizedSearchCV(cv=5, estimator=DecisionTreeClassifier(random_state=0),\n",
              "                   n_iter=100, n_jobs=-1,\n",
              "                   param_distributions={'max_depth': range(2, 15),\n",
              "                                        'max_features': ['auto', 0.95, 0.9,\n",
              "                                                         0.85, 0.8, 0.75, 0.7],\n",
              "                                        'max_leaf_nodes': range(10, 71, 5),\n",
              "                                        'min_samples_leaf': [0.01, 0.02, 0.03,\n",
              "                                                             0.04, 0.05],\n",
              "                                        'min_samples_split': range(2, 21, 2),\n",
              "                                        'splitter': ['random', 'best']},\n",
              "                   scoring='roc_auc')"
            ]
          },
          "metadata": {},
          "execution_count": 20
        }
      ]
    },
    {
      "cell_type": "code",
      "source": [
        "#roc_auc기반\n",
        "from sklearn.metrics import average_precision_score, roc_auc_score\n",
        "\n",
        "grid3 = GridSearchCV(DecisionTreeClassifier(random_state=0),param_grid=params, scoring =\"roc_auc\")\n",
        "grid3.fit(X_train_scaled,y_train)\n",
        "y_pred33 = grid3.decision_function(X_test)\n",
        "print(grid3.best_params_)\n",
        "print(grid3.best_score_)\n",
        "print(grid3.score(X_test,y_test)) #해당것 score\n",
        "print(roc_auc_score(y_test,y_pred33)) #roc score\n",
        "\n",
        "print(\"얘는 NG\")\n",
        "y_pred3 = grid3.predict(X_test) #테스트 데이터로 예측값 받음\n",
        "print(roc_auc_score(y_test,y_pred3)) #roc score"
      ],
      "metadata": {
        "id": "ej1Tc56f6pnh",
        "colab": {
          "base_uri": "https://localhost:8080/",
          "height": 397
        },
        "outputId": "b9973531-ce11-47fd-d58b-e8231776d77c"
      },
      "execution_count": 21,
      "outputs": [
        {
          "output_type": "error",
          "ename": "KeyboardInterrupt",
          "evalue": "ignored",
          "traceback": [
            "\u001b[0;31m---------------------------------------------------------------------------\u001b[0m",
            "\u001b[0;31mKeyboardInterrupt\u001b[0m                         Traceback (most recent call last)",
            "\u001b[0;32m<ipython-input-21-3098e558ceb8>\u001b[0m in \u001b[0;36m<module>\u001b[0;34m\u001b[0m\n\u001b[1;32m      3\u001b[0m \u001b[0;34m\u001b[0m\u001b[0m\n\u001b[1;32m      4\u001b[0m \u001b[0mgrid3\u001b[0m \u001b[0;34m=\u001b[0m \u001b[0mGridSearchCV\u001b[0m\u001b[0;34m(\u001b[0m\u001b[0mDecisionTreeClassifier\u001b[0m\u001b[0;34m(\u001b[0m\u001b[0mrandom_state\u001b[0m\u001b[0;34m=\u001b[0m\u001b[0;36m0\u001b[0m\u001b[0;34m)\u001b[0m\u001b[0;34m,\u001b[0m\u001b[0mparam_grid\u001b[0m\u001b[0;34m=\u001b[0m\u001b[0mparams\u001b[0m\u001b[0;34m,\u001b[0m \u001b[0mscoring\u001b[0m \u001b[0;34m=\u001b[0m\u001b[0;34m\"roc_auc\"\u001b[0m\u001b[0;34m)\u001b[0m\u001b[0;34m\u001b[0m\u001b[0;34m\u001b[0m\u001b[0m\n\u001b[0;32m----> 5\u001b[0;31m \u001b[0mgrid3\u001b[0m\u001b[0;34m.\u001b[0m\u001b[0mfit\u001b[0m\u001b[0;34m(\u001b[0m\u001b[0mX_train\u001b[0m\u001b[0;34m,\u001b[0m\u001b[0my_train\u001b[0m\u001b[0;34m)\u001b[0m\u001b[0;34m\u001b[0m\u001b[0;34m\u001b[0m\u001b[0m\n\u001b[0m\u001b[1;32m      6\u001b[0m \u001b[0my_pred33\u001b[0m \u001b[0;34m=\u001b[0m \u001b[0mgrid3\u001b[0m\u001b[0;34m.\u001b[0m\u001b[0mdecision_function\u001b[0m\u001b[0;34m(\u001b[0m\u001b[0mX_test\u001b[0m\u001b[0;34m)\u001b[0m\u001b[0;34m\u001b[0m\u001b[0;34m\u001b[0m\u001b[0m\n\u001b[1;32m      7\u001b[0m \u001b[0mprint\u001b[0m\u001b[0;34m(\u001b[0m\u001b[0mgrid3\u001b[0m\u001b[0;34m.\u001b[0m\u001b[0mbest_params_\u001b[0m\u001b[0;34m)\u001b[0m\u001b[0;34m\u001b[0m\u001b[0;34m\u001b[0m\u001b[0m\n",
            "\u001b[0;32m/usr/local/lib/python3.7/dist-packages/sklearn/model_selection/_search.py\u001b[0m in \u001b[0;36mfit\u001b[0;34m(self, X, y, groups, **fit_params)\u001b[0m\n\u001b[1;32m    889\u001b[0m                 \u001b[0;32mreturn\u001b[0m \u001b[0mresults\u001b[0m\u001b[0;34m\u001b[0m\u001b[0;34m\u001b[0m\u001b[0m\n\u001b[1;32m    890\u001b[0m \u001b[0;34m\u001b[0m\u001b[0m\n\u001b[0;32m--> 891\u001b[0;31m             \u001b[0mself\u001b[0m\u001b[0;34m.\u001b[0m\u001b[0m_run_search\u001b[0m\u001b[0;34m(\u001b[0m\u001b[0mevaluate_candidates\u001b[0m\u001b[0;34m)\u001b[0m\u001b[0;34m\u001b[0m\u001b[0;34m\u001b[0m\u001b[0m\n\u001b[0m\u001b[1;32m    892\u001b[0m \u001b[0;34m\u001b[0m\u001b[0m\n\u001b[1;32m    893\u001b[0m             \u001b[0;31m# multimetric is determined here because in the case of a callable\u001b[0m\u001b[0;34m\u001b[0m\u001b[0;34m\u001b[0m\u001b[0;34m\u001b[0m\u001b[0m\n",
            "\u001b[0;32m/usr/local/lib/python3.7/dist-packages/sklearn/model_selection/_search.py\u001b[0m in \u001b[0;36m_run_search\u001b[0;34m(self, evaluate_candidates)\u001b[0m\n\u001b[1;32m   1390\u001b[0m     \u001b[0;32mdef\u001b[0m \u001b[0m_run_search\u001b[0m\u001b[0;34m(\u001b[0m\u001b[0mself\u001b[0m\u001b[0;34m,\u001b[0m \u001b[0mevaluate_candidates\u001b[0m\u001b[0;34m)\u001b[0m\u001b[0;34m:\u001b[0m\u001b[0;34m\u001b[0m\u001b[0;34m\u001b[0m\u001b[0m\n\u001b[1;32m   1391\u001b[0m         \u001b[0;34m\"\"\"Search all candidates in param_grid\"\"\"\u001b[0m\u001b[0;34m\u001b[0m\u001b[0;34m\u001b[0m\u001b[0m\n\u001b[0;32m-> 1392\u001b[0;31m         \u001b[0mevaluate_candidates\u001b[0m\u001b[0;34m(\u001b[0m\u001b[0mParameterGrid\u001b[0m\u001b[0;34m(\u001b[0m\u001b[0mself\u001b[0m\u001b[0;34m.\u001b[0m\u001b[0mparam_grid\u001b[0m\u001b[0;34m)\u001b[0m\u001b[0;34m)\u001b[0m\u001b[0;34m\u001b[0m\u001b[0;34m\u001b[0m\u001b[0m\n\u001b[0m\u001b[1;32m   1393\u001b[0m \u001b[0;34m\u001b[0m\u001b[0m\n\u001b[1;32m   1394\u001b[0m \u001b[0;34m\u001b[0m\u001b[0m\n",
            "\u001b[0;32m/usr/local/lib/python3.7/dist-packages/sklearn/model_selection/_search.py\u001b[0m in \u001b[0;36mevaluate_candidates\u001b[0;34m(candidate_params, cv, more_results)\u001b[0m\n\u001b[1;32m    849\u001b[0m                     )\n\u001b[1;32m    850\u001b[0m                     for (cand_idx, parameters), (split_idx, (train, test)) in product(\n\u001b[0;32m--> 851\u001b[0;31m                         \u001b[0menumerate\u001b[0m\u001b[0;34m(\u001b[0m\u001b[0mcandidate_params\u001b[0m\u001b[0;34m)\u001b[0m\u001b[0;34m,\u001b[0m \u001b[0menumerate\u001b[0m\u001b[0;34m(\u001b[0m\u001b[0mcv\u001b[0m\u001b[0;34m.\u001b[0m\u001b[0msplit\u001b[0m\u001b[0;34m(\u001b[0m\u001b[0mX\u001b[0m\u001b[0;34m,\u001b[0m \u001b[0my\u001b[0m\u001b[0;34m,\u001b[0m \u001b[0mgroups\u001b[0m\u001b[0;34m)\u001b[0m\u001b[0;34m)\u001b[0m\u001b[0;34m\u001b[0m\u001b[0;34m\u001b[0m\u001b[0m\n\u001b[0m\u001b[1;32m    852\u001b[0m                     )\n\u001b[1;32m    853\u001b[0m                 )\n",
            "\u001b[0;32m/usr/local/lib/python3.7/dist-packages/joblib/parallel.py\u001b[0m in \u001b[0;36m__call__\u001b[0;34m(self, iterable)\u001b[0m\n\u001b[1;32m   1044\u001b[0m                 \u001b[0mself\u001b[0m\u001b[0;34m.\u001b[0m\u001b[0m_iterating\u001b[0m \u001b[0;34m=\u001b[0m \u001b[0mself\u001b[0m\u001b[0;34m.\u001b[0m\u001b[0m_original_iterator\u001b[0m \u001b[0;32mis\u001b[0m \u001b[0;32mnot\u001b[0m \u001b[0;32mNone\u001b[0m\u001b[0;34m\u001b[0m\u001b[0;34m\u001b[0m\u001b[0m\n\u001b[1;32m   1045\u001b[0m \u001b[0;34m\u001b[0m\u001b[0m\n\u001b[0;32m-> 1046\u001b[0;31m             \u001b[0;32mwhile\u001b[0m \u001b[0mself\u001b[0m\u001b[0;34m.\u001b[0m\u001b[0mdispatch_one_batch\u001b[0m\u001b[0;34m(\u001b[0m\u001b[0miterator\u001b[0m\u001b[0;34m)\u001b[0m\u001b[0;34m:\u001b[0m\u001b[0;34m\u001b[0m\u001b[0;34m\u001b[0m\u001b[0m\n\u001b[0m\u001b[1;32m   1047\u001b[0m                 \u001b[0;32mpass\u001b[0m\u001b[0;34m\u001b[0m\u001b[0;34m\u001b[0m\u001b[0m\n\u001b[1;32m   1048\u001b[0m \u001b[0;34m\u001b[0m\u001b[0m\n",
            "\u001b[0;32m/usr/local/lib/python3.7/dist-packages/joblib/parallel.py\u001b[0m in \u001b[0;36mdispatch_one_batch\u001b[0;34m(self, iterator)\u001b[0m\n\u001b[1;32m    859\u001b[0m                 \u001b[0;32mreturn\u001b[0m \u001b[0;32mFalse\u001b[0m\u001b[0;34m\u001b[0m\u001b[0;34m\u001b[0m\u001b[0m\n\u001b[1;32m    860\u001b[0m             \u001b[0;32melse\u001b[0m\u001b[0;34m:\u001b[0m\u001b[0;34m\u001b[0m\u001b[0;34m\u001b[0m\u001b[0m\n\u001b[0;32m--> 861\u001b[0;31m                 \u001b[0mself\u001b[0m\u001b[0;34m.\u001b[0m\u001b[0m_dispatch\u001b[0m\u001b[0;34m(\u001b[0m\u001b[0mtasks\u001b[0m\u001b[0;34m)\u001b[0m\u001b[0;34m\u001b[0m\u001b[0;34m\u001b[0m\u001b[0m\n\u001b[0m\u001b[1;32m    862\u001b[0m                 \u001b[0;32mreturn\u001b[0m \u001b[0;32mTrue\u001b[0m\u001b[0;34m\u001b[0m\u001b[0;34m\u001b[0m\u001b[0m\n\u001b[1;32m    863\u001b[0m \u001b[0;34m\u001b[0m\u001b[0m\n",
            "\u001b[0;32m/usr/local/lib/python3.7/dist-packages/joblib/parallel.py\u001b[0m in \u001b[0;36m_dispatch\u001b[0;34m(self, batch)\u001b[0m\n\u001b[1;32m    777\u001b[0m         \u001b[0;32mwith\u001b[0m \u001b[0mself\u001b[0m\u001b[0;34m.\u001b[0m\u001b[0m_lock\u001b[0m\u001b[0;34m:\u001b[0m\u001b[0;34m\u001b[0m\u001b[0;34m\u001b[0m\u001b[0m\n\u001b[1;32m    778\u001b[0m             \u001b[0mjob_idx\u001b[0m \u001b[0;34m=\u001b[0m \u001b[0mlen\u001b[0m\u001b[0;34m(\u001b[0m\u001b[0mself\u001b[0m\u001b[0;34m.\u001b[0m\u001b[0m_jobs\u001b[0m\u001b[0;34m)\u001b[0m\u001b[0;34m\u001b[0m\u001b[0;34m\u001b[0m\u001b[0m\n\u001b[0;32m--> 779\u001b[0;31m             \u001b[0mjob\u001b[0m \u001b[0;34m=\u001b[0m \u001b[0mself\u001b[0m\u001b[0;34m.\u001b[0m\u001b[0m_backend\u001b[0m\u001b[0;34m.\u001b[0m\u001b[0mapply_async\u001b[0m\u001b[0;34m(\u001b[0m\u001b[0mbatch\u001b[0m\u001b[0;34m,\u001b[0m \u001b[0mcallback\u001b[0m\u001b[0;34m=\u001b[0m\u001b[0mcb\u001b[0m\u001b[0;34m)\u001b[0m\u001b[0;34m\u001b[0m\u001b[0;34m\u001b[0m\u001b[0m\n\u001b[0m\u001b[1;32m    780\u001b[0m             \u001b[0;31m# A job can complete so quickly than its callback is\u001b[0m\u001b[0;34m\u001b[0m\u001b[0;34m\u001b[0m\u001b[0;34m\u001b[0m\u001b[0m\n\u001b[1;32m    781\u001b[0m             \u001b[0;31m# called before we get here, causing self._jobs to\u001b[0m\u001b[0;34m\u001b[0m\u001b[0;34m\u001b[0m\u001b[0;34m\u001b[0m\u001b[0m\n",
            "\u001b[0;32m/usr/local/lib/python3.7/dist-packages/joblib/_parallel_backends.py\u001b[0m in \u001b[0;36mapply_async\u001b[0;34m(self, func, callback)\u001b[0m\n\u001b[1;32m    206\u001b[0m     \u001b[0;32mdef\u001b[0m \u001b[0mapply_async\u001b[0m\u001b[0;34m(\u001b[0m\u001b[0mself\u001b[0m\u001b[0;34m,\u001b[0m \u001b[0mfunc\u001b[0m\u001b[0;34m,\u001b[0m \u001b[0mcallback\u001b[0m\u001b[0;34m=\u001b[0m\u001b[0;32mNone\u001b[0m\u001b[0;34m)\u001b[0m\u001b[0;34m:\u001b[0m\u001b[0;34m\u001b[0m\u001b[0;34m\u001b[0m\u001b[0m\n\u001b[1;32m    207\u001b[0m         \u001b[0;34m\"\"\"Schedule a func to be run\"\"\"\u001b[0m\u001b[0;34m\u001b[0m\u001b[0;34m\u001b[0m\u001b[0m\n\u001b[0;32m--> 208\u001b[0;31m         \u001b[0mresult\u001b[0m \u001b[0;34m=\u001b[0m \u001b[0mImmediateResult\u001b[0m\u001b[0;34m(\u001b[0m\u001b[0mfunc\u001b[0m\u001b[0;34m)\u001b[0m\u001b[0;34m\u001b[0m\u001b[0;34m\u001b[0m\u001b[0m\n\u001b[0m\u001b[1;32m    209\u001b[0m         \u001b[0;32mif\u001b[0m \u001b[0mcallback\u001b[0m\u001b[0;34m:\u001b[0m\u001b[0;34m\u001b[0m\u001b[0;34m\u001b[0m\u001b[0m\n\u001b[1;32m    210\u001b[0m             \u001b[0mcallback\u001b[0m\u001b[0;34m(\u001b[0m\u001b[0mresult\u001b[0m\u001b[0;34m)\u001b[0m\u001b[0;34m\u001b[0m\u001b[0;34m\u001b[0m\u001b[0m\n",
            "\u001b[0;32m/usr/local/lib/python3.7/dist-packages/joblib/_parallel_backends.py\u001b[0m in \u001b[0;36m__init__\u001b[0;34m(self, batch)\u001b[0m\n\u001b[1;32m    570\u001b[0m         \u001b[0;31m# Don't delay the application, to avoid keeping the input\u001b[0m\u001b[0;34m\u001b[0m\u001b[0;34m\u001b[0m\u001b[0;34m\u001b[0m\u001b[0m\n\u001b[1;32m    571\u001b[0m         \u001b[0;31m# arguments in memory\u001b[0m\u001b[0;34m\u001b[0m\u001b[0;34m\u001b[0m\u001b[0;34m\u001b[0m\u001b[0m\n\u001b[0;32m--> 572\u001b[0;31m         \u001b[0mself\u001b[0m\u001b[0;34m.\u001b[0m\u001b[0mresults\u001b[0m \u001b[0;34m=\u001b[0m \u001b[0mbatch\u001b[0m\u001b[0;34m(\u001b[0m\u001b[0;34m)\u001b[0m\u001b[0;34m\u001b[0m\u001b[0;34m\u001b[0m\u001b[0m\n\u001b[0m\u001b[1;32m    573\u001b[0m \u001b[0;34m\u001b[0m\u001b[0m\n\u001b[1;32m    574\u001b[0m     \u001b[0;32mdef\u001b[0m \u001b[0mget\u001b[0m\u001b[0;34m(\u001b[0m\u001b[0mself\u001b[0m\u001b[0;34m)\u001b[0m\u001b[0;34m:\u001b[0m\u001b[0;34m\u001b[0m\u001b[0;34m\u001b[0m\u001b[0m\n",
            "\u001b[0;32m/usr/local/lib/python3.7/dist-packages/joblib/parallel.py\u001b[0m in \u001b[0;36m__call__\u001b[0;34m(self)\u001b[0m\n\u001b[1;32m    261\u001b[0m         \u001b[0;32mwith\u001b[0m \u001b[0mparallel_backend\u001b[0m\u001b[0;34m(\u001b[0m\u001b[0mself\u001b[0m\u001b[0;34m.\u001b[0m\u001b[0m_backend\u001b[0m\u001b[0;34m,\u001b[0m \u001b[0mn_jobs\u001b[0m\u001b[0;34m=\u001b[0m\u001b[0mself\u001b[0m\u001b[0;34m.\u001b[0m\u001b[0m_n_jobs\u001b[0m\u001b[0;34m)\u001b[0m\u001b[0;34m:\u001b[0m\u001b[0;34m\u001b[0m\u001b[0;34m\u001b[0m\u001b[0m\n\u001b[1;32m    262\u001b[0m             return [func(*args, **kwargs)\n\u001b[0;32m--> 263\u001b[0;31m                     for func, args, kwargs in self.items]\n\u001b[0m\u001b[1;32m    264\u001b[0m \u001b[0;34m\u001b[0m\u001b[0m\n\u001b[1;32m    265\u001b[0m     \u001b[0;32mdef\u001b[0m \u001b[0m__reduce__\u001b[0m\u001b[0;34m(\u001b[0m\u001b[0mself\u001b[0m\u001b[0;34m)\u001b[0m\u001b[0;34m:\u001b[0m\u001b[0;34m\u001b[0m\u001b[0;34m\u001b[0m\u001b[0m\n",
            "\u001b[0;32m/usr/local/lib/python3.7/dist-packages/joblib/parallel.py\u001b[0m in \u001b[0;36m<listcomp>\u001b[0;34m(.0)\u001b[0m\n\u001b[1;32m    261\u001b[0m         \u001b[0;32mwith\u001b[0m \u001b[0mparallel_backend\u001b[0m\u001b[0;34m(\u001b[0m\u001b[0mself\u001b[0m\u001b[0;34m.\u001b[0m\u001b[0m_backend\u001b[0m\u001b[0;34m,\u001b[0m \u001b[0mn_jobs\u001b[0m\u001b[0;34m=\u001b[0m\u001b[0mself\u001b[0m\u001b[0;34m.\u001b[0m\u001b[0m_n_jobs\u001b[0m\u001b[0;34m)\u001b[0m\u001b[0;34m:\u001b[0m\u001b[0;34m\u001b[0m\u001b[0;34m\u001b[0m\u001b[0m\n\u001b[1;32m    262\u001b[0m             return [func(*args, **kwargs)\n\u001b[0;32m--> 263\u001b[0;31m                     for func, args, kwargs in self.items]\n\u001b[0m\u001b[1;32m    264\u001b[0m \u001b[0;34m\u001b[0m\u001b[0m\n\u001b[1;32m    265\u001b[0m     \u001b[0;32mdef\u001b[0m \u001b[0m__reduce__\u001b[0m\u001b[0;34m(\u001b[0m\u001b[0mself\u001b[0m\u001b[0;34m)\u001b[0m\u001b[0;34m:\u001b[0m\u001b[0;34m\u001b[0m\u001b[0;34m\u001b[0m\u001b[0m\n",
            "\u001b[0;32m/usr/local/lib/python3.7/dist-packages/sklearn/utils/fixes.py\u001b[0m in \u001b[0;36m__call__\u001b[0;34m(self, *args, **kwargs)\u001b[0m\n\u001b[1;32m    214\u001b[0m     \u001b[0;32mdef\u001b[0m \u001b[0m__call__\u001b[0m\u001b[0;34m(\u001b[0m\u001b[0mself\u001b[0m\u001b[0;34m,\u001b[0m \u001b[0;34m*\u001b[0m\u001b[0margs\u001b[0m\u001b[0;34m,\u001b[0m \u001b[0;34m**\u001b[0m\u001b[0mkwargs\u001b[0m\u001b[0;34m)\u001b[0m\u001b[0;34m:\u001b[0m\u001b[0;34m\u001b[0m\u001b[0;34m\u001b[0m\u001b[0m\n\u001b[1;32m    215\u001b[0m         \u001b[0;32mwith\u001b[0m \u001b[0mconfig_context\u001b[0m\u001b[0;34m(\u001b[0m\u001b[0;34m**\u001b[0m\u001b[0mself\u001b[0m\u001b[0;34m.\u001b[0m\u001b[0mconfig\u001b[0m\u001b[0;34m)\u001b[0m\u001b[0;34m:\u001b[0m\u001b[0;34m\u001b[0m\u001b[0;34m\u001b[0m\u001b[0m\n\u001b[0;32m--> 216\u001b[0;31m             \u001b[0;32mreturn\u001b[0m \u001b[0mself\u001b[0m\u001b[0;34m.\u001b[0m\u001b[0mfunction\u001b[0m\u001b[0;34m(\u001b[0m\u001b[0;34m*\u001b[0m\u001b[0margs\u001b[0m\u001b[0;34m,\u001b[0m \u001b[0;34m**\u001b[0m\u001b[0mkwargs\u001b[0m\u001b[0;34m)\u001b[0m\u001b[0;34m\u001b[0m\u001b[0;34m\u001b[0m\u001b[0m\n\u001b[0m\u001b[1;32m    217\u001b[0m \u001b[0;34m\u001b[0m\u001b[0m\n\u001b[1;32m    218\u001b[0m \u001b[0;34m\u001b[0m\u001b[0m\n",
            "\u001b[0;32m/usr/local/lib/python3.7/dist-packages/sklearn/model_selection/_validation.py\u001b[0m in \u001b[0;36m_fit_and_score\u001b[0;34m(estimator, X, y, scorer, train, test, verbose, parameters, fit_params, return_train_score, return_parameters, return_n_test_samples, return_times, return_estimator, split_progress, candidate_progress, error_score)\u001b[0m\n\u001b[1;32m    678\u001b[0m             \u001b[0mestimator\u001b[0m\u001b[0;34m.\u001b[0m\u001b[0mfit\u001b[0m\u001b[0;34m(\u001b[0m\u001b[0mX_train\u001b[0m\u001b[0;34m,\u001b[0m \u001b[0;34m**\u001b[0m\u001b[0mfit_params\u001b[0m\u001b[0;34m)\u001b[0m\u001b[0;34m\u001b[0m\u001b[0;34m\u001b[0m\u001b[0m\n\u001b[1;32m    679\u001b[0m         \u001b[0;32melse\u001b[0m\u001b[0;34m:\u001b[0m\u001b[0;34m\u001b[0m\u001b[0;34m\u001b[0m\u001b[0m\n\u001b[0;32m--> 680\u001b[0;31m             \u001b[0mestimator\u001b[0m\u001b[0;34m.\u001b[0m\u001b[0mfit\u001b[0m\u001b[0;34m(\u001b[0m\u001b[0mX_train\u001b[0m\u001b[0;34m,\u001b[0m \u001b[0my_train\u001b[0m\u001b[0;34m,\u001b[0m \u001b[0;34m**\u001b[0m\u001b[0mfit_params\u001b[0m\u001b[0;34m)\u001b[0m\u001b[0;34m\u001b[0m\u001b[0;34m\u001b[0m\u001b[0m\n\u001b[0m\u001b[1;32m    681\u001b[0m \u001b[0;34m\u001b[0m\u001b[0m\n\u001b[1;32m    682\u001b[0m     \u001b[0;32mexcept\u001b[0m \u001b[0mException\u001b[0m\u001b[0;34m:\u001b[0m\u001b[0;34m\u001b[0m\u001b[0;34m\u001b[0m\u001b[0m\n",
            "\u001b[0;32m/usr/local/lib/python3.7/dist-packages/sklearn/tree/_classes.py\u001b[0m in \u001b[0;36mfit\u001b[0;34m(self, X, y, sample_weight, check_input, X_idx_sorted)\u001b[0m\n\u001b[1;32m    940\u001b[0m             \u001b[0msample_weight\u001b[0m\u001b[0;34m=\u001b[0m\u001b[0msample_weight\u001b[0m\u001b[0;34m,\u001b[0m\u001b[0;34m\u001b[0m\u001b[0;34m\u001b[0m\u001b[0m\n\u001b[1;32m    941\u001b[0m             \u001b[0mcheck_input\u001b[0m\u001b[0;34m=\u001b[0m\u001b[0mcheck_input\u001b[0m\u001b[0;34m,\u001b[0m\u001b[0;34m\u001b[0m\u001b[0;34m\u001b[0m\u001b[0m\n\u001b[0;32m--> 942\u001b[0;31m             \u001b[0mX_idx_sorted\u001b[0m\u001b[0;34m=\u001b[0m\u001b[0mX_idx_sorted\u001b[0m\u001b[0;34m,\u001b[0m\u001b[0;34m\u001b[0m\u001b[0;34m\u001b[0m\u001b[0m\n\u001b[0m\u001b[1;32m    943\u001b[0m         )\n\u001b[1;32m    944\u001b[0m         \u001b[0;32mreturn\u001b[0m \u001b[0mself\u001b[0m\u001b[0;34m\u001b[0m\u001b[0;34m\u001b[0m\u001b[0m\n",
            "\u001b[0;32m/usr/local/lib/python3.7/dist-packages/sklearn/tree/_classes.py\u001b[0m in \u001b[0;36mfit\u001b[0;34m(self, X, y, sample_weight, check_input, X_idx_sorted)\u001b[0m\n\u001b[1;32m    418\u001b[0m             )\n\u001b[1;32m    419\u001b[0m \u001b[0;34m\u001b[0m\u001b[0m\n\u001b[0;32m--> 420\u001b[0;31m         \u001b[0mbuilder\u001b[0m\u001b[0;34m.\u001b[0m\u001b[0mbuild\u001b[0m\u001b[0;34m(\u001b[0m\u001b[0mself\u001b[0m\u001b[0;34m.\u001b[0m\u001b[0mtree_\u001b[0m\u001b[0;34m,\u001b[0m \u001b[0mX\u001b[0m\u001b[0;34m,\u001b[0m \u001b[0my\u001b[0m\u001b[0;34m,\u001b[0m \u001b[0msample_weight\u001b[0m\u001b[0;34m)\u001b[0m\u001b[0;34m\u001b[0m\u001b[0;34m\u001b[0m\u001b[0m\n\u001b[0m\u001b[1;32m    421\u001b[0m \u001b[0;34m\u001b[0m\u001b[0m\n\u001b[1;32m    422\u001b[0m         \u001b[0;32mif\u001b[0m \u001b[0mself\u001b[0m\u001b[0;34m.\u001b[0m\u001b[0mn_outputs_\u001b[0m \u001b[0;34m==\u001b[0m \u001b[0;36m1\u001b[0m \u001b[0;32mand\u001b[0m \u001b[0mis_classifier\u001b[0m\u001b[0;34m(\u001b[0m\u001b[0mself\u001b[0m\u001b[0;34m)\u001b[0m\u001b[0;34m:\u001b[0m\u001b[0;34m\u001b[0m\u001b[0;34m\u001b[0m\u001b[0m\n",
            "\u001b[0;31mKeyboardInterrupt\u001b[0m: "
          ]
        }
      ]
    },
    {
      "cell_type": "code",
      "source": [],
      "metadata": {
        "id": "_PNwLErV_vMG"
      },
      "execution_count": null,
      "outputs": []
    },
    {
      "cell_type": "code",
      "source": [],
      "metadata": {
        "id": "05OHiKEL_vP1"
      },
      "execution_count": null,
      "outputs": []
    },
    {
      "cell_type": "code",
      "source": [],
      "metadata": {
        "id": "SYbawMt__vgR"
      },
      "execution_count": null,
      "outputs": []
    },
    {
      "cell_type": "code",
      "source": [],
      "metadata": {
        "id": "DzdkbObK_vno"
      },
      "execution_count": null,
      "outputs": []
    },
    {
      "cell_type": "code",
      "source": [],
      "metadata": {
        "id": "p4V_Zn1W_vux"
      },
      "execution_count": null,
      "outputs": []
    }
  ]
}
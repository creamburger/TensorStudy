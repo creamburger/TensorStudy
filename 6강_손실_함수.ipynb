{
  "nbformat": 4,
  "nbformat_minor": 0,
  "metadata": {
    "colab": {
      "name": "6강 손실 함수.ipynb",
      "provenance": [],
      "authorship_tag": "ABX9TyPiV72M/XrRopplixQ+qd4q",
      "include_colab_link": true
    },
    "kernelspec": {
      "name": "python3",
      "display_name": "Python 3"
    },
    "language_info": {
      "name": "python"
    }
  },
  "cells": [
    {
      "cell_type": "markdown",
      "metadata": {
        "id": "view-in-github",
        "colab_type": "text"
      },
      "source": [
        "<a href=\"https://colab.research.google.com/github/creamburger/TensorStudy/blob/main/6%EA%B0%95_%EC%86%90%EC%8B%A4_%ED%95%A8%EC%88%98.ipynb\" target=\"_parent\"><img src=\"https://colab.research.google.com/assets/colab-badge.svg\" alt=\"Open In Colab\"/></a>"
      ]
    },
    {
      "cell_type": "code",
      "execution_count": 1,
      "metadata": {
        "id": "N3M2tsJhwa6u"
      },
      "outputs": [],
      "source": [
        "logits = [3.2, 5.1, -1.7]"
      ]
    },
    {
      "cell_type": "code",
      "source": [
        "import numpy as np"
      ],
      "metadata": {
        "id": "Vbqo993VwkSn"
      },
      "execution_count": 2,
      "outputs": []
    },
    {
      "cell_type": "code",
      "source": [
        "np.exp(logits) # e의 3.2승, 5.1승, -1.7승을 해주는 코드"
      ],
      "metadata": {
        "colab": {
          "base_uri": "https://localhost:8080/"
        },
        "id": "-It-V5bVwnGM",
        "outputId": "e4e8a2a8-da64-4032-f72f-da8b5a80d42b"
      },
      "execution_count": 4,
      "outputs": [
        {
          "output_type": "execute_result",
          "data": {
            "text/plain": [
              "array([ 24.5325302 , 164.0219073 ,   0.18268352])"
            ]
          },
          "metadata": {},
          "execution_count": 4
        }
      ]
    },
    {
      "cell_type": "code",
      "source": [
        "s = np.sum(np.exp(logits))"
      ],
      "metadata": {
        "id": "yB93lU5Nw6mS"
      },
      "execution_count": 5,
      "outputs": []
    },
    {
      "cell_type": "code",
      "source": [
        "s"
      ],
      "metadata": {
        "colab": {
          "base_uri": "https://localhost:8080/"
        },
        "id": "HK9jSE1NxB2d",
        "outputId": "10cd4cf3-f242-4842-b955-9fdbd6801b3f"
      },
      "execution_count": 6,
      "outputs": [
        {
          "output_type": "execute_result",
          "data": {
            "text/plain": [
              "188.7371210210638"
            ]
          },
          "metadata": {},
          "execution_count": 6
        }
      ]
    },
    {
      "cell_type": "code",
      "source": [
        "softmax = np.exp(logits)/s"
      ],
      "metadata": {
        "id": "new5H7lexCVw"
      },
      "execution_count": 9,
      "outputs": []
    },
    {
      "cell_type": "code",
      "source": [
        "softmax"
      ],
      "metadata": {
        "colab": {
          "base_uri": "https://localhost:8080/"
        },
        "id": "p14BHJDGxQCU",
        "outputId": "d2bc8f77-80c0-400d-9dda-fb98b3401d69"
      },
      "execution_count": 10,
      "outputs": [
        {
          "output_type": "execute_result",
          "data": {
            "text/plain": [
              "array([0.12998254, 0.86904954, 0.00096793])"
            ]
          },
          "metadata": {},
          "execution_count": 10
        }
      ]
    },
    {
      "cell_type": "code",
      "source": [
        "np.sum(softmax) # 확률분포"
      ],
      "metadata": {
        "colab": {
          "base_uri": "https://localhost:8080/"
        },
        "id": "5o7aoFh5xbNM",
        "outputId": "a50037fd-8321-404d-a8fc-011f39d03b70"
      },
      "execution_count": 12,
      "outputs": [
        {
          "output_type": "execute_result",
          "data": {
            "text/plain": [
              "0.9999999999999999"
            ]
          },
          "metadata": {},
          "execution_count": 12
        }
      ]
    },
    {
      "cell_type": "code",
      "source": [
        "label = [1,0,0]"
      ],
      "metadata": {
        "id": "s8lxHqhjxrI0"
      },
      "execution_count": 19,
      "outputs": []
    },
    {
      "cell_type": "code",
      "source": [
        "crossentropy = - label[0]* np.log(softmax[0]) - label[1]* np.log(softmax[1])- label[2]* np.log(softmax[2])"
      ],
      "metadata": {
        "id": "j1Pkth9dxuoz"
      },
      "execution_count": 22,
      "outputs": []
    },
    {
      "cell_type": "code",
      "source": [
        "crossentropy"
      ],
      "metadata": {
        "colab": {
          "base_uri": "https://localhost:8080/"
        },
        "id": "WBgwUdBRyUrx",
        "outputId": "f7298554-0e5c-4e51-9078-92b567c4ef62"
      },
      "execution_count": 23,
      "outputs": [
        {
          "output_type": "execute_result",
          "data": {
            "text/plain": [
              "2.04035515280017"
            ]
          },
          "metadata": {},
          "execution_count": 23
        }
      ]
    },
    {
      "cell_type": "code",
      "source": [
        "crossentropy = -np.log(softmax[0])"
      ],
      "metadata": {
        "id": "qwHKM4LiycI1"
      },
      "execution_count": 24,
      "outputs": []
    }
  ]
}